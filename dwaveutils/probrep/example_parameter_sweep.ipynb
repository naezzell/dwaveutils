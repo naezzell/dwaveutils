{
 "cells": [
  {
   "cell_type": "markdown",
   "metadata": {
    "slideshow": {
     "slide_type": "slide"
    }
   },
   "source": [
    "# Example Features of DictRep Class\n",
    "## Nic Ezzell"
   ]
  },
  {
   "cell_type": "code",
   "execution_count": 5,
   "metadata": {
    "slideshow": {
     "slide_type": "slide"
    }
   },
   "outputs": [],
   "source": [
    "import sys\n",
    "import pandas as pd\n",
    "import seaborn as sns\n",
    "import numpy as np\n",
    "import matplotlib.pyplot as plt\n",
    "import matplotlib.ticker as ticker\n",
    "import timeit\n",
    "sys.path.append(\"..\")\n",
    "from dictrep import DictRep\n",
    "from dwavetools import find_heff_s, make_anneal_schedule, create_heff_csv"
   ]
  },
  {
   "cell_type": "markdown",
   "metadata": {
    "slideshow": {
     "slide_type": "slide"
    }
   },
   "source": [
    "## Single Problem Logical Encoding Hamiltonain (spleH)"
   ]
  },
  {
   "cell_type": "markdown",
   "metadata": {
    "slideshow": {
     "slide_type": "notes"
    }
   },
   "source": [
    "A \"single problem\" run is created by specifying numeric values in the Hamiltonian's field-bias and coupling strengths. With logical encoding specified, qubits are minor-embedded with internal D-Wave Ocean API. In addition, if the problem can fit more than once on the chip, the logical encoding option attempts to tile the same motif across chip to increase sample statistics in a single run. Hence, why this small problem ran 246 times on one call to the D-Wave machine."
   ]
  },
  {
   "cell_type": "code",
   "execution_count": 2,
   "metadata": {
    "slideshow": {
     "slide_type": "fragment"
    }
   },
   "outputs": [
    {
     "data": {
      "image/png": "[encoded data removed]",
      "text/plain": [
       "<Figure size 432x288 with 1 Axes>"
      ]
     },
     "metadata": {},
     "output_type": "display_data"
    }
   ],
   "source": [
    "spleH = {(0, 0): 0.1, (1, 1): 0.1, (2, 2): 0.1, (0, 1): -0.1, (1, 2): -0.1, (0, 2): 0.1}\n",
    "problem1 = DictRep(H = spleH, qpu = 'dwave', vartype = 'ising', encoding = \"logical\")\n",
    "problem1.visualize_graph()"
   ]
  },
  {
   "cell_type": "code",
   "execution_count": 3,
   "metadata": {
    "slideshow": {
     "slide_type": "subslide"
    }
   },
   "outputs": [
    {
     "name": "stdout",
     "output_type": "stream",
     "text": [
      "[-0.4, {0: -1, 1: -1, 2: -1}, 1]\n",
      "[0.20000000000000004, {0: 1, 1: 1, 2: 1}, 1]\n",
      "246\n"
     ]
    }
   ],
   "source": [
    "response1 = problem1.call_annealer() #returns default OCEAN output object\n",
    "totaloutput = []\n",
    "for energy, state, n in response1.data(['energy', 'sample', 'num_occurrences']):\n",
    "    nthdata = [energy, state, n]\n",
    "    totaloutput.append(nthdata)\n",
    "print(totaloutput[0])\n",
    "print(totaloutput[-1])\n",
    "print(len(totaloutput))"
   ]
  },
  {
   "cell_type": "markdown",
   "metadata": {
    "slideshow": {
     "slide_type": "slide"
    }
   },
   "source": [
    "## Single Problem Direct Encoding Hamiltonain (spdeH)"
   ]
  },
  {
   "cell_type": "markdown",
   "metadata": {
    "slideshow": {
     "slide_type": "notes"
    }
   },
   "source": [
    "In this example, we attempt to run the sample problem as above but instead specify a \"direct\" embedding rather than logical. A direct embedding means there is a 1-1 correspondance between qubit and coupling keys in the user-specified Hamitlonain dictionary and the working qubits/ couplings on the chip. Since there is not a coupling between physics qubit 0 and 1, this user-specified embedding fails to run."
   ]
  },
  {
   "cell_type": "code",
   "execution_count": 4,
   "metadata": {
    "slideshow": {
     "slide_type": "fragment"
    }
   },
   "outputs": [
    {
     "ename": "ValueError",
     "evalue": "Problem graph incompatible with solver.",
     "output_type": "error",
     "traceback": [
      "\u001b[0;31m---------------------------------------------------------------------------\u001b[0m",
      "\u001b[0;31mValueError\u001b[0m                                Traceback (most recent call last)",
      "\u001b[0;32m<ipython-input-4-4fb2a0b1dd2e>\u001b[0m in \u001b[0;36m<module>\u001b[0;34m()\u001b[0m\n\u001b[1;32m      1\u001b[0m \u001b[0mspdeH\u001b[0m \u001b[0;34m=\u001b[0m \u001b[0;34m{\u001b[0m\u001b[0;34m(\u001b[0m\u001b[0;36m0\u001b[0m\u001b[0;34m,\u001b[0m \u001b[0;36m0\u001b[0m\u001b[0;34m)\u001b[0m\u001b[0;34m:\u001b[0m \u001b[0;36m0.1\u001b[0m\u001b[0;34m,\u001b[0m \u001b[0;34m(\u001b[0m\u001b[0;36m1\u001b[0m\u001b[0;34m,\u001b[0m \u001b[0;36m1\u001b[0m\u001b[0;34m)\u001b[0m\u001b[0;34m:\u001b[0m \u001b[0;36m0.1\u001b[0m\u001b[0;34m,\u001b[0m \u001b[0;34m(\u001b[0m\u001b[0;36m2\u001b[0m\u001b[0;34m,\u001b[0m \u001b[0;36m2\u001b[0m\u001b[0;34m)\u001b[0m\u001b[0;34m:\u001b[0m \u001b[0;36m0.1\u001b[0m\u001b[0;34m,\u001b[0m \u001b[0;34m(\u001b[0m\u001b[0;36m0\u001b[0m\u001b[0;34m,\u001b[0m \u001b[0;36m1\u001b[0m\u001b[0;34m)\u001b[0m\u001b[0;34m:\u001b[0m \u001b[0;34m-\u001b[0m\u001b[0;36m0.1\u001b[0m\u001b[0;34m,\u001b[0m \u001b[0;34m(\u001b[0m\u001b[0;36m1\u001b[0m\u001b[0;34m,\u001b[0m \u001b[0;36m2\u001b[0m\u001b[0;34m)\u001b[0m\u001b[0;34m:\u001b[0m \u001b[0;34m-\u001b[0m\u001b[0;36m0.1\u001b[0m\u001b[0;34m,\u001b[0m \u001b[0;34m(\u001b[0m\u001b[0;36m0\u001b[0m\u001b[0;34m,\u001b[0m \u001b[0;36m2\u001b[0m\u001b[0;34m)\u001b[0m\u001b[0;34m:\u001b[0m \u001b[0;36m0.1\u001b[0m\u001b[0;34m}\u001b[0m\u001b[0;34m\u001b[0m\u001b[0m\n\u001b[1;32m      2\u001b[0m \u001b[0mproblem2\u001b[0m \u001b[0;34m=\u001b[0m \u001b[0mDictRep\u001b[0m\u001b[0;34m(\u001b[0m\u001b[0mH\u001b[0m \u001b[0;34m=\u001b[0m \u001b[0mspdeH\u001b[0m\u001b[0;34m,\u001b[0m \u001b[0mqpu\u001b[0m \u001b[0;34m=\u001b[0m \u001b[0;34m'dwave'\u001b[0m\u001b[0;34m,\u001b[0m \u001b[0mvartype\u001b[0m \u001b[0;34m=\u001b[0m \u001b[0;34m'ising'\u001b[0m\u001b[0;34m,\u001b[0m \u001b[0mencoding\u001b[0m \u001b[0;34m=\u001b[0m \u001b[0;34m\"direct\"\u001b[0m\u001b[0;34m)\u001b[0m\u001b[0;34m\u001b[0m\u001b[0m\n\u001b[0;32m----> 3\u001b[0;31m \u001b[0mresponse2\u001b[0m \u001b[0;34m=\u001b[0m \u001b[0mproblem2\u001b[0m\u001b[0;34m.\u001b[0m\u001b[0mcall_annealer\u001b[0m\u001b[0;34m(\u001b[0m\u001b[0;34m)\u001b[0m\u001b[0;34m\u001b[0m\u001b[0m\n\u001b[0m",
      "\u001b[0;32m~/dwaverepo/dwaveutils/probrep/dictrep.py\u001b[0m in \u001b[0;36mcall_annealer\u001b[0;34m(self, cull, s_to_hx)\u001b[0m\n\u001b[1;32m    127\u001b[0m             \u001b[0;32mif\u001b[0m \u001b[0mself\u001b[0m\u001b[0;34m.\u001b[0m\u001b[0mvartype\u001b[0m \u001b[0;34m==\u001b[0m \u001b[0;34m'ising'\u001b[0m\u001b[0;34m:\u001b[0m\u001b[0;34m\u001b[0m\u001b[0m\n\u001b[1;32m    128\u001b[0m                 \u001b[0mh\u001b[0m\u001b[0;34m,\u001b[0m \u001b[0mJ\u001b[0m \u001b[0;34m=\u001b[0m \u001b[0mget_dwaveH\u001b[0m\u001b[0;34m(\u001b[0m\u001b[0mself\u001b[0m\u001b[0;34m.\u001b[0m\u001b[0mH\u001b[0m\u001b[0;34m,\u001b[0m \u001b[0;34m'ising'\u001b[0m\u001b[0;34m)\u001b[0m\u001b[0;34m\u001b[0m\u001b[0m\n\u001b[0;32m--> 129\u001b[0;31m                 \u001b[0mresponse\u001b[0m \u001b[0;34m=\u001b[0m \u001b[0mself\u001b[0m\u001b[0;34m.\u001b[0m\u001b[0msampler\u001b[0m\u001b[0;34m.\u001b[0m\u001b[0msample_ising\u001b[0m\u001b[0;34m(\u001b[0m\u001b[0mh\u001b[0m\u001b[0;34m,\u001b[0m \u001b[0mJ\u001b[0m\u001b[0;34m)\u001b[0m\u001b[0;34m\u001b[0m\u001b[0m\n\u001b[0m\u001b[1;32m    130\u001b[0m                 \u001b[0;32mreturn\u001b[0m \u001b[0mresponse\u001b[0m\u001b[0;34m\u001b[0m\u001b[0m\n\u001b[1;32m    131\u001b[0m \u001b[0;34m\u001b[0m\u001b[0m\n",
      "\u001b[0;32m~/miniconda2/envs/jupyterlab3/lib/python3.6/site-packages/dwave/system/samplers/dwave_sampler.py\u001b[0m in \u001b[0;36msample_ising\u001b[0;34m(self, h, J, **kwargs)\u001b[0m\n\u001b[1;32m    246\u001b[0m         \u001b[0minfo_keys\u001b[0m \u001b[0;34m=\u001b[0m \u001b[0;34m{\u001b[0m\u001b[0;34m'timing'\u001b[0m\u001b[0;34m}\u001b[0m\u001b[0;34m\u001b[0m\u001b[0m\n\u001b[1;32m    247\u001b[0m \u001b[0;34m\u001b[0m\u001b[0m\n\u001b[0;32m--> 248\u001b[0;31m         \u001b[0mfuture\u001b[0m \u001b[0;34m=\u001b[0m \u001b[0mself\u001b[0m\u001b[0;34m.\u001b[0m\u001b[0msolver\u001b[0m\u001b[0;34m.\u001b[0m\u001b[0msample_ising\u001b[0m\u001b[0;34m(\u001b[0m\u001b[0mh\u001b[0m\u001b[0;34m,\u001b[0m \u001b[0mJ\u001b[0m\u001b[0;34m,\u001b[0m \u001b[0;34m**\u001b[0m\u001b[0mkwargs\u001b[0m\u001b[0;34m)\u001b[0m\u001b[0;34m\u001b[0m\u001b[0m\n\u001b[0m\u001b[1;32m    249\u001b[0m         return dimod.Response.from_futures((future,), vartype=dimod.SPIN,\n\u001b[1;32m    250\u001b[0m                                            \u001b[0mnum_variables\u001b[0m\u001b[0;34m=\u001b[0m\u001b[0mnum_variables\u001b[0m\u001b[0;34m,\u001b[0m\u001b[0;34m\u001b[0m\u001b[0m\n",
      "\u001b[0;32m~/miniconda2/envs/jupyterlab3/lib/python3.6/site-packages/dwave/cloud/solver.py\u001b[0m in \u001b[0;36msample_ising\u001b[0;34m(self, linear, quadratic, **params)\u001b[0m\n\u001b[1;32m    189\u001b[0m         \u001b[0;31m# Our linear and quadratic objective terms are already separated in an\u001b[0m\u001b[0;34m\u001b[0m\u001b[0;34m\u001b[0m\u001b[0m\n\u001b[1;32m    190\u001b[0m         \u001b[0;31m# ising model so we can just directly call `_sample`.\u001b[0m\u001b[0;34m\u001b[0m\u001b[0;34m\u001b[0m\u001b[0m\n\u001b[0;32m--> 191\u001b[0;31m         \u001b[0;32mreturn\u001b[0m \u001b[0mself\u001b[0m\u001b[0;34m.\u001b[0m\u001b[0m_sample\u001b[0m\u001b[0;34m(\u001b[0m\u001b[0;34m'ising'\u001b[0m\u001b[0;34m,\u001b[0m \u001b[0mlinear\u001b[0m\u001b[0;34m,\u001b[0m \u001b[0mquadratic\u001b[0m\u001b[0;34m,\u001b[0m \u001b[0mparams\u001b[0m\u001b[0;34m)\u001b[0m\u001b[0;34m\u001b[0m\u001b[0m\n\u001b[0m\u001b[1;32m    192\u001b[0m \u001b[0;34m\u001b[0m\u001b[0m\n\u001b[1;32m    193\u001b[0m     \u001b[0;32mdef\u001b[0m \u001b[0msample_qubo\u001b[0m\u001b[0;34m(\u001b[0m\u001b[0mself\u001b[0m\u001b[0;34m,\u001b[0m \u001b[0mqubo\u001b[0m\u001b[0;34m,\u001b[0m \u001b[0;34m**\u001b[0m\u001b[0mparams\u001b[0m\u001b[0;34m)\u001b[0m\u001b[0;34m:\u001b[0m\u001b[0;34m\u001b[0m\u001b[0m\n",
      "\u001b[0;32m~/miniconda2/envs/jupyterlab3/lib/python3.6/site-packages/dwave/cloud/solver.py\u001b[0m in \u001b[0;36m_sample\u001b[0;34m(self, type_, linear, quadratic, params)\u001b[0m\n\u001b[1;32m    244\u001b[0m         \u001b[0;31m# Check the problem\u001b[0m\u001b[0;34m\u001b[0m\u001b[0;34m\u001b[0m\u001b[0m\n\u001b[1;32m    245\u001b[0m         \u001b[0;32mif\u001b[0m \u001b[0;32mnot\u001b[0m \u001b[0mself\u001b[0m\u001b[0;34m.\u001b[0m\u001b[0mcheck_problem\u001b[0m\u001b[0;34m(\u001b[0m\u001b[0mlinear\u001b[0m\u001b[0;34m,\u001b[0m \u001b[0mquadratic\u001b[0m\u001b[0;34m)\u001b[0m\u001b[0;34m:\u001b[0m\u001b[0;34m\u001b[0m\u001b[0m\n\u001b[0;32m--> 246\u001b[0;31m             \u001b[0;32mraise\u001b[0m \u001b[0mValueError\u001b[0m\u001b[0;34m(\u001b[0m\u001b[0;34m\"Problem graph incompatible with solver.\"\u001b[0m\u001b[0;34m)\u001b[0m\u001b[0;34m\u001b[0m\u001b[0m\n\u001b[0m\u001b[1;32m    247\u001b[0m \u001b[0;34m\u001b[0m\u001b[0m\n\u001b[1;32m    248\u001b[0m         \u001b[0;31m# Mix the new parameters with the default parameters\u001b[0m\u001b[0;34m\u001b[0m\u001b[0;34m\u001b[0m\u001b[0m\n",
      "\u001b[0;31mValueError\u001b[0m: Problem graph incompatible with solver."
     ]
    }
   ],
   "source": [
    "spdeH = {(0, 0): 0.1, (1, 1): 0.1, (2, 2): 0.1, (0, 1): -0.1, (1, 2): -0.1, (0, 2): 0.1}\n",
    "problem2 = DictRep(H = spdeH, qpu = 'dwave', vartype = 'ising', encoding = \"direct\")\n",
    "response2 = problem2.call_annealer()"
   ]
  },
  {
   "cell_type": "markdown",
   "metadata": {
    "slideshow": {
     "slide_type": "slide"
    }
   },
   "source": [
    "### Abstract Problem Logical Encoding Hamiltonian (apleH)"
   ]
  },
  {
   "cell_type": "markdown",
   "metadata": {
    "slideshow": {
     "slide_type": "notes"
    }
   },
   "source": [
    "In this example, we create a Hamiltonian whose weights are abstract parameters (variables) rather\n",
    "than numeric values. This allows for a hyper-parameter sweep of a finite set of variables than can be used to encode the value for more than one qubit/coupling at a time (ie (0, 0) and (1, 1) vary dependently). Notice that in this case we chose to run this problem on a simulator rather than the actual chip and that even with abstract parameters, the graph can still be visualized as an adjacency matrix/ graph. "
   ]
  },
  {
   "cell_type": "code",
   "execution_count": 7,
   "metadata": {
    "slideshow": {
     "slide_type": "fragment"
    }
   },
   "outputs": [
    {
     "data": {
      "image/png": "[encoded data removed]",
      "text/plain": [
       "<Figure size 432x288 with 1 Axes>"
      ]
     },
     "metadata": {},
     "output_type": "display_data"
    }
   ],
   "source": [
    "apleH = {(0, 0): 'h0', (1, 1): 'h0', (2, 2): 'h0', (0, 1): 'J1', (1, 2): 'J1', (0, 2): 'J2'}\n",
    "problem3 = DictRep(apleH, 'simulate', 'ising', 'logical')\n",
    "problem3.visualize_graph()"
   ]
  },
  {
   "cell_type": "code",
   "execution_count": 8,
   "metadata": {
    "slideshow": {
     "slide_type": "slide"
    }
   },
   "outputs": [
    {
     "data": {
      "text/html": [
       "<div>\n",
       "<style scoped>\n",
       "    .dataframe tbody tr th:only-of-type {\n",
       "        vertical-align: middle;\n",
       "    }\n",
       "\n",
       "    .dataframe tbody tr th {\n",
       "        vertical-align: top;\n",
       "    }\n",
       "\n",
       "    .dataframe thead th {\n",
       "        text-align: right;\n",
       "    }\n",
       "</style>\n",
       "<table border=\"1\" class=\"dataframe\">\n",
       "  <thead>\n",
       "    <tr style=\"text-align: right;\">\n",
       "      <th></th>\n",
       "      <th>J1</th>\n",
       "      <th>J2</th>\n",
       "      <th>anneal_schedule</th>\n",
       "      <th>energy</th>\n",
       "      <th>h0</th>\n",
       "      <th>num_reads</th>\n",
       "      <th>state</th>\n",
       "    </tr>\n",
       "  </thead>\n",
       "  <tbody>\n",
       "    <tr>\n",
       "      <th>0</th>\n",
       "      <td>-0.1</td>\n",
       "      <td>0.0</td>\n",
       "      <td>[[0, 0], [20, 1]]</td>\n",
       "      <td>0.2</td>\n",
       "      <td>0.0</td>\n",
       "      <td>1.0</td>\n",
       "      <td>(-1, 1, -1)</td>\n",
       "    </tr>\n",
       "    <tr>\n",
       "      <th>1</th>\n",
       "      <td>-0.1</td>\n",
       "      <td>0.0</td>\n",
       "      <td>[[0, 0], [10, 0.5], [15, 0.5], [20, 1]]</td>\n",
       "      <td>0.2</td>\n",
       "      <td>0.0</td>\n",
       "      <td>1.0</td>\n",
       "      <td>(1, -1, 1)</td>\n",
       "    </tr>\n",
       "    <tr>\n",
       "      <th>2</th>\n",
       "      <td>-0.1</td>\n",
       "      <td>0.1</td>\n",
       "      <td>[[0, 0], [20, 1]]</td>\n",
       "      <td>-0.1</td>\n",
       "      <td>0.0</td>\n",
       "      <td>1.0</td>\n",
       "      <td>(-1, -1, -1)</td>\n",
       "    </tr>\n",
       "    <tr>\n",
       "      <th>3</th>\n",
       "      <td>-0.1</td>\n",
       "      <td>0.1</td>\n",
       "      <td>[[0, 0], [10, 0.5], [15, 0.5], [20, 1]]</td>\n",
       "      <td>-0.1</td>\n",
       "      <td>0.0</td>\n",
       "      <td>1.0</td>\n",
       "      <td>(-1, 1, 1)</td>\n",
       "    </tr>\n",
       "    <tr>\n",
       "      <th>4</th>\n",
       "      <td>-0.1</td>\n",
       "      <td>0.0</td>\n",
       "      <td>[[0, 0], [20, 1]]</td>\n",
       "      <td>0.1</td>\n",
       "      <td>0.1</td>\n",
       "      <td>1.0</td>\n",
       "      <td>(-1, 1, -1)</td>\n",
       "    </tr>\n",
       "  </tbody>\n",
       "</table>\n",
       "</div>"
      ],
      "text/plain": [
       "    J1   J2                          anneal_schedule  energy   h0  num_reads  \\\n",
       "0 -0.1  0.0                        [[0, 0], [20, 1]]     0.2  0.0        1.0   \n",
       "1 -0.1  0.0  [[0, 0], [10, 0.5], [15, 0.5], [20, 1]]     0.2  0.0        1.0   \n",
       "2 -0.1  0.1                        [[0, 0], [20, 1]]    -0.1  0.0        1.0   \n",
       "3 -0.1  0.1  [[0, 0], [10, 0.5], [15, 0.5], [20, 1]]    -0.1  0.0        1.0   \n",
       "4 -0.1  0.0                        [[0, 0], [20, 1]]     0.1  0.1        1.0   \n",
       "\n",
       "          state  \n",
       "0   (-1, 1, -1)  \n",
       "1    (1, -1, 1)  \n",
       "2  (-1, -1, -1)  \n",
       "3    (-1, 1, 1)  \n",
       "4   (-1, 1, -1)  "
      ]
     },
     "execution_count": 8,
     "metadata": {},
     "output_type": "execute_result"
    }
   ],
   "source": [
    "# Set values for abstract parameters to take\n",
    "h0 = np.linspace(0, 0.1, 2)\n",
    "J1 = [-.1]\n",
    "J2 = np.linspace(0, 0.1, 2)\n",
    "\n",
    "# Create anneal schedules to try\n",
    "sch1 = make_anneal_schedule('forward', s = 1, ta = 20)\n",
    "sch2 = make_anneal_schedule('forward', s = 0.5, ta = 10, tp = 5, tq = 5)\n",
    "\n",
    "#propogate these parameters to problem3\n",
    "parameters = {'h0': h0, 'J1': J1, 'J2': J2, 'anneal_schedule': [sch1, sch2], 'num_reads': [1]}\n",
    "problem3.populate_parameters(parameters)\n",
    "data = problem3.call_annealer(cull = False)\n",
    "data.head()"
   ]
  },
  {
   "cell_type": "markdown",
   "metadata": {
    "slideshow": {
     "slide_type": "notes"
    }
   },
   "source": [
    "### Outputs of Parameter Sweeps\n",
    "Notice that in a parameter sweep, the output data is formatted automatically into a pandas DataFrame that encodes single runs on each row. This makes it very easy to produce useful visualizaitons of the data as seen below with the built in method get_state_plot."
   ]
  },
  {
   "cell_type": "code",
   "execution_count": 10,
   "metadata": {
    "slideshow": {
     "slide_type": "subslide"
    }
   },
   "outputs": [
    {
     "data": {
      "text/plain": [
       "<module 'matplotlib.pyplot' from '/home/nic/miniconda2/envs/jupyterlab3/lib/python3.6/site-packages/matplotlib/pyplot.py'>"
      ]
     },
     "execution_count": 10,
     "metadata": {},
     "output_type": "execute_result"
    },
    {
     "data": {
      "image/png": "[encoded data removed]",
      "text/plain": [
       "<Figure size 864x576 with 2 Axes>"
      ]
     },
     "metadata": {},
     "output_type": "display_data"
    }
   ],
   "source": [
    "#post-processing\n",
    "problem3.save_data('test.csv')\n",
    "problem3.get_state_plot(figsize = (12, 8), filename = 'test.png')"
   ]
  },
  {
   "cell_type": "markdown",
   "metadata": {
    "slideshow": {
     "slide_type": "slide"
    }
   },
   "source": [
    "### Transverse Field Example"
   ]
  },
  {
   "cell_type": "markdown",
   "metadata": {
    "slideshow": {
     "slide_type": "notes"
    }
   },
   "source": [
    "Finally, we solve a problem with a transverse field--which is handled much more easily with the built-in parameter sweeping utilties. Notice the importing of heff_to_s which maps transverse field strengths (heff) to anneal fractions (s). Using this, we are able to find the corresponding s for each user-input hx value, and this dictionary must be passed to the call_annealer function to incorporate the hx data alongside the output data since this is information is actually passed to D-Wave only through the anneal_schedule."
   ]
  },
  {
   "cell_type": "code",
   "execution_count": 8,
   "metadata": {
    "slideshow": {
     "slide_type": "fragment"
    }
   },
   "outputs": [],
   "source": [
    "transH = {(0, 0): 'h0', (1, 1): 'h0', (2, 2): 'h0', (0, 1): 'J1', (1, 2): 'J1', (0, 2): 'J2'}\n",
    "problem4 = DictRep(transH, 'dwave', 'ising', 'logical')\n",
    "# load in chip data (simplified csv file created with dwavetools)\n",
    "heff_to_s = pd.read_csv(\"heff_to_s_DW_2000Q_2_June2018.csv\")"
   ]
  },
  {
   "cell_type": "code",
   "execution_count": 9,
   "metadata": {
    "slideshow": {
     "slide_type": "subslide"
    }
   },
   "outputs": [],
   "source": [
    "#set h/ J vals\n",
    "h0 = [0]\n",
    "J1 = [-.1]\n",
    "J2 = np.linspace(-0.4, 0.4, 20)\n",
    "#set hxvals, find corresponding svals\n",
    "hxvals = np.linspace(-0.4, 0.4, 20)\n",
    "hidxs = pd.Index(heff_to_s['heff'])\n",
    "csv_svals = pd.Index(heff_to_s['s'])\n",
    "s_to_hx = {}\n",
    "svals = []\n",
    "for hx in hxvals:\n",
    "    s = csv_svals[hidxs.get_loc(hx, 'nearest')]\n",
    "    svals.append(s)\n",
    "    s_to_hx[s] = hx\n",
    "    \n",
    "#create anneal_schedules that correspond to quenching at s when heff = hx with various anneal lengths\n",
    "atimes = [20]\n",
    "schedules = [make_anneal_schedule('f', s, ta, 0, 1) for s in svals for ta in atimes]"
   ]
  },
  {
   "cell_type": "markdown",
   "metadata": {
    "slideshow": {
     "slide_type": "notes"
    }
   },
   "source": [
    "### Note of call_annealer output\n",
    "A couple final things of note:\n",
    "1.) The call_annealer function allows a user to only output states of a given run with the lowest energies.\n",
    "2.) The get_ferro_diagram method creates a contour plot showing the probability that for a given set of parameters x/denom and y/denom (x = 'J2', y = 'hx' and denom = 'J1' in this case), the output states are ferromagnetic. \n",
    "3.) This plot is not correct for the given 3 qubit problem, but this is because the minimum anneal time on the chip is 1 micro second which is not short enough for this small of a problem."
   ]
  },
  {
   "cell_type": "code",
   "execution_count": 10,
   "metadata": {
    "slideshow": {
     "slide_type": "subslide"
    }
   },
   "outputs": [
    {
     "data": {
      "text/plain": [
       "<module 'matplotlib.pyplot' from '/home/nic/miniconda2/envs/jupyterlab3/lib/python3.6/site-packages/matplotlib/pyplot.py'>"
      ]
     },
     "execution_count": 10,
     "metadata": {},
     "output_type": "execute_result"
    },
    {
     "data": {
      "image/png": "[encoded data removed]",
      "text/plain": [
       "<Figure size 432x288 with 2 Axes>"
      ]
     },
     "metadata": {},
     "output_type": "display_data"
    }
   ],
   "source": [
    "parameters4 = {'h0': h0, 'J1': J1, 'J2': J2, 'anneal_schedule': schedules, 'num_reads': [1]}\n",
    "problem4.populate_parameters(parameters4)\n",
    "data4 = problem4.call_annealer(cull = False, s_to_hx=s_to_hx)\n",
    "data4.head()\n",
    "\n",
    "problem4.get_ferro_diagram('J2', 'hx', 'J1')"
   ]
  },
  {
   "cell_type": "markdown",
   "metadata": {
    "slideshow": {
     "slide_type": "slide"
    }
   },
   "source": [
    "### Need-to-Dos and Future Directions\n",
    "1.) Create xRep classess that take in problems in way that makes sense for x and does problem-specific post-processing to get desired information out.\n",
    "\n",
    "    i) ie machine learning is a big use-case\n",
    "    ii) also finding relative weights of constraints\n",
    "    \n",
    "2.) Utilties that create problem/ connection config files and use them in code.\n",
    "\n",
    "3.) Accept mixed inputs (abstract variables and exact variables)\n",
    "\n",
    "4.) Allow output to include all qubits even if represented by different abstract variables?\n",
    "\n",
    "5.) Default chip/problem characterization routines? I.e. minimum \"sudden\" approximation regime/ exact calculations?   \n",
    "\n",
    "6.) Create \"rules\" that govern relationship between variables that change dependently. \n",
    "\n",
    "7.) Resolve awkward relative importing... \n",
    "\n",
    "8.) More control over specifics during anneal? I.e. anneal offsets allows more generalized transverse field terms. "
   ]
  },
  {
   "cell_type": "code",
   "execution_count": null,
   "metadata": {},
   "outputs": [],
   "source": []
  }
 ],
 "metadata": {
  "kernelspec": {
   "display_name": "Python 3",
   "language": "python",
   "name": "python3"
  },
  "language_info": {
   "codemirror_mode": {
    "name": "ipython",
    "version": 3
   },
   "file_extension": ".py",
   "mimetype": "text/x-python",
   "name": "python",
   "nbconvert_exporter": "python",
   "pygments_lexer": "ipython3",
   "version": "3.6.6"
  }
 },
 "nbformat": 4,
 "nbformat_minor": 2
}
