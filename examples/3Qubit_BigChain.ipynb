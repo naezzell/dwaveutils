{
 "cells": [
  {
   "cell_type": "markdown",
   "metadata": {},
   "source": [
    "## Using (most) of the chip to encode the 3 qubit triangle"
   ]
  },
  {
   "cell_type": "code",
   "execution_count": 1,
   "metadata": {},
   "outputs": [],
   "source": [
    "# Handle the relevant import statements before moving on...\n",
    "import sys\n",
    "sys.path.append(\"../dwaveutils/dwavetools\")\n",
    "sys.path.append(\"../dwaveutils/probrep\")\n",
    "from dictrep import DictRep\n",
    "from dwave.system.samplers import DWaveSampler\n",
    "from dwavetools import (find_heff_s, make_dwave_schedule, create_heff_csv,\n",
    "                        nqubit_1pauli, nqubit_2pauli, loadAandB,\n",
    "                        make_numeric_schedule, time_interpolation,\n",
    "                        get_numeric_H, densify_unitcell)\n",
    "import matplotlib.pyplot as plt\n",
    "import numpy as np\n",
    "import pandas as pd\n",
    "import qutip as qt\n",
    "from operator import add"
   ]
  },
  {
   "cell_type": "markdown",
   "metadata": {},
   "source": [
    "Load in chip data and get working qubits/couplers. \n",
    "Also, \"block_H\" refers to the specific qubits that connect the \"blocks\" that make up the massive \"1 qubit chains.\" "
   ]
  },
  {
   "cell_type": "code",
   "execution_count": 2,
   "metadata": {},
   "outputs": [],
   "source": [
    "chip = DWaveSampler()\n",
    "wqubits = chip.properties['qubits']\n",
    "wcouplers = chip.properties['couplers']\n",
    "block_H = {(44, 52): 'J2', (1243, 1371): 'J1', (1168, 1296): 'J1'}"
   ]
  },
  {
   "cell_type": "markdown",
   "metadata": {},
   "source": [
    "Here, we will form the large \"blocks\" that densley connect a bunch of qubits in a rectangle that represents a single qubit."
   ]
  },
  {
   "cell_type": "code",
   "execution_count": 50,
   "metadata": {},
   "outputs": [],
   "source": [
    "def dense_rectangle_qubit(fqbit, width, height, hweight, Jweight):\n",
    "    '''\n",
    "    Creates a width x height densely connected qubit chain starting with fqbit, giving\n",
    "    each qubit along the chain a linear weight of hweight and coupling stregnth of Jweight. \n",
    "    '''\n",
    "    q_H = {}\n",
    "    \n",
    "    ucell = 1\n",
    "    while ucell <= (width*height+1):\n",
    "        print(ucell)\n",
    "        print(fqbit)\n",
    "        # if not at the edge of rectangle, go to next unit cell to the right\n",
    "        # and make couplings that connect these unit cells\n",
    "        if ucell % width != 0: \n",
    "            couplings = [[fqbit+4+i, fqbit+12+i] for i in range(4)]\n",
    "            fqbit += 8\n",
    "        # otherwise, go to next row and connect edge unit cell with those BELOW\n",
    "        # unless you are actually on the final row, of course; then don't connect down\n",
    "        elif (ucell % width == 0) and (ucell < width*height+1):\n",
    "            couplings = [[fqbit+i, fqbit+128+i] for i in range(4)]\n",
    "            fqbit += 88\n",
    "\n",
    "        uc_H = densify_unitcell(fqbit, hweight, Jweight, wqubits, wcouplers)\n",
    "        q_H.update(uc_H)\n",
    "        count = 0\n",
    "        for coupling in couplings:\n",
    "            if coupling in wcouplers:\n",
    "                q_H.update({tuple(coupling): Jweight})\n",
    "                count += 1         \n",
    "        if count == 0:\n",
    "            return(\"Chain is broken; no connections availible.\")\n",
    "            break\n",
    "\n",
    "        ucell += 1\n",
    "        \n",
    "    return q_H"
   ]
  },
  {
   "cell_type": "code",
   "execution_count": 55,
   "metadata": {},
   "outputs": [],
   "source": [
    "# create the first qubit by starting with qubit 0 and creating a dense 6 x 10 block\n",
    "#first_qubit = dense_rectangle_qubit(0, 6, 10, 1, 1)"
   ]
  },
  {
   "cell_type": "code",
   "execution_count": 56,
   "metadata": {},
   "outputs": [],
   "source": [
    "# create the second qubit by starting with qubit 48 and creating another dense 6 x 10 block\n",
    "#second_qubit = dense_rectangle_qubit(48, 6, 10, 1, 1)"
   ]
  },
  {
   "cell_type": "code",
   "execution_count": 57,
   "metadata": {},
   "outputs": [],
   "source": [
    "# create the final qubit by starting with qubit 1280 and creating a dense 10 x 6 block\n",
    "#third_qubit = dense_rectangle_qubit(1280, 10, 6, 1, 1)"
   ]
  },
  {
   "cell_type": "code",
   "execution_count": null,
   "metadata": {},
   "outputs": [],
   "source": []
  }
 ],
 "metadata": {
  "kernelspec": {
   "display_name": "Python 3",
   "language": "python",
   "name": "python3"
  },
  "language_info": {
   "codemirror_mode": {
    "name": "ipython",
    "version": 3
   },
   "file_extension": ".py",
   "mimetype": "text/x-python",
   "name": "python",
   "nbconvert_exporter": "python",
   "pygments_lexer": "ipython3",
   "version": "3.6.6"
  }
 },
 "nbformat": 4,
 "nbformat_minor": 2
}
