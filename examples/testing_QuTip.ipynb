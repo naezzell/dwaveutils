{
 "cells": [
  {
   "cell_type": "markdown",
   "metadata": {},
   "source": [
    "## Random Matrix Testing"
   ]
  },
  {
   "cell_type": "code",
   "execution_count": 1,
   "metadata": {},
   "outputs": [],
   "source": [
    "import qutip as qt\n",
    "import qutip.states as qts\n",
    "import qutip.operators as qto\n",
    "import qutip.states as qts\n",
    "import numpy as np\n",
    "import matplotlib.pyplot as plt\n",
    "%matplotlib inline\n",
    "import pandas as pd\n",
    "import sys\n",
    "import seaborn as sns\n",
    "from functools import reduce\n",
    "\n",
    "sys.path.append(\"../dwaveutils/dwavetools\")\n",
    "sys.path.append(\"../dwaveutils/probrep\")\n",
    "from dictrep import DictRep\n",
    "from dwavetools import nqubit_1pauli, nqubit_2pauli, loadAandB, dict_to_qutip, s_of_t"
   ]
  },
  {
   "cell_type": "code",
   "execution_count": 2,
   "metadata": {},
   "outputs": [
    {
     "data": {
      "text/plain": [
       "<networkx.classes.graph.Graph at 0x7fbc69f1b1d0>"
      ]
     },
     "execution_count": 2,
     "metadata": {},
     "output_type": "execute_result"
    },
    {
     "data": {
      "image/png": "[encoded data removed]",
      "text/plain": [
       "<Figure size 432x288 with 1 Axes>"
      ]
     },
     "metadata": {},
     "output_type": "display_data"
    }
   ],
   "source": [
    "# Form a dictionary representation of a problem\n",
    "dictparams = {(0, 0): 0.1, (1, 1): 0.1, (2, 2): 0.1, (0, 1): -0.1, (1, 2): -0.1, (0, 2): 0.1}\n",
    "problem1 = DictRep(H = dictparams, qpu = 'simulate', vartype = 'ising', encoding = \"logical\")\n",
    "problem1.visualize_graph()"
   ]
  },
  {
   "cell_type": "code",
   "execution_count": 3,
   "metadata": {},
   "outputs": [
    {
     "data": {
      "image/png": "[encoded data removed]",
      "text/plain": [
       "<Figure size 432x288 with 1 Axes>"
      ]
     },
     "metadata": {},
     "output_type": "display_data"
    }
   ],
   "source": [
    "svals, Afunc, Bfunc = loadAandB()\n",
    "plt.figure()\n",
    "plt.plot(svals, Afunc(svals), label='A(s)')\n",
    "plt.plot(svals, Bfunc(svals), label='B(s)')\n",
    "plt.legend()\n",
    "plt.xlabel('s')\n",
    "plt.ylabel('E/h (GHz)')\n",
    "plt.show()"
   ]
  },
  {
   "cell_type": "code",
   "execution_count": 24,
   "metadata": {},
   "outputs": [],
   "source": [
    "def make_dwaveH(dictrep, s_of_t, filename=None):\n",
    "    \"\"\"\n",
    "    Makes the full time-dependent (via s) TFIM of D-Wave from DictRep H\n",
    "    that only encodes the final annealing Hamiltonian\n",
    "    \"\"\"\n",
    "    # first, get A(s) and B(s) functions\n",
    "    if filename:\n",
    "        svals, Afunc, Bfun = loadAandB(filename)\n",
    "    else:\n",
    "        svals, Afunc, Bfunc = loadAandB()\n",
    "        \n",
    "    # next, construct the final Hamiltonian encoded in DictRep\n",
    "    HZ = dict_to_qutip(dictrep)\n",
    "    \n",
    "    # then, construct HX initial Hamiltonian\n",
    "    nqbits = len(dictrep.qubits)\n",
    "    HX = sum([nqubit_1pauli(qto.sigmax(), m, nqbits) for m in range(nqbits)])\n",
    "    \n",
    "    # finally, make the total Hamiltonian\n",
    "    Hfinal = [[HX, Afunc], [HZ, Bfunc]]\n",
    "    \n",
    "    return Hfinal"
   ]
  },
  {
   "cell_type": "code",
   "execution_count": 25,
   "metadata": {},
   "outputs": [
    {
     "data": {
      "text/plain": [
       "[[Quantum object: dims = [[2, 2, 2], [2, 2, 2]], shape = (8, 8), type = oper, isherm = True\n",
       "  Qobj data =\n",
       "  [[0. 1. 1. 0. 1. 0. 0. 0.]\n",
       "   [1. 0. 0. 1. 0. 1. 0. 0.]\n",
       "   [1. 0. 0. 1. 0. 0. 1. 0.]\n",
       "   [0. 1. 1. 0. 0. 0. 0. 1.]\n",
       "   [1. 0. 0. 0. 0. 1. 1. 0.]\n",
       "   [0. 1. 0. 0. 1. 0. 0. 1.]\n",
       "   [0. 0. 1. 0. 1. 0. 0. 1.]\n",
       "   [0. 0. 0. 1. 0. 1. 1. 0.]],\n",
       "  <qutip.interpolate.Cubic_Spline at 0x7f6fc74ca898>],\n",
       " [Quantum object: dims = [[2, 2, 2], [2, 2, 2]], shape = (8, 8), type = oper, isherm = True\n",
       "  Qobj data =\n",
       "  [[ 0.2  0.   0.   0.   0.   0.   0.   0. ]\n",
       "   [ 0.   0.   0.   0.   0.   0.   0.   0. ]\n",
       "   [ 0.   0.   0.4  0.   0.   0.   0.   0. ]\n",
       "   [ 0.   0.   0.  -0.2  0.   0.   0.   0. ]\n",
       "   [ 0.   0.   0.   0.   0.   0.   0.   0. ]\n",
       "   [ 0.   0.   0.   0.   0.   0.2  0.   0. ]\n",
       "   [ 0.   0.   0.   0.   0.   0.  -0.2  0. ]\n",
       "   [ 0.   0.   0.   0.   0.   0.   0.  -0.4]],\n",
       "  <qutip.interpolate.Cubic_Spline at 0x7f6fc74caac8>]]"
      ]
     },
     "execution_count": 25,
     "metadata": {},
     "output_type": "execute_result"
    }
   ],
   "source": [
    "make_dwaveH(problem1)"
   ]
  },
  {
   "cell_type": "code",
   "execution_count": 113,
   "metadata": {},
   "outputs": [],
   "source": [
    "results = qt.sesolve(make_dwaveH(problem1), qts.ket([0, 0, 0]), [0, 0.3])"
   ]
  },
  {
   "cell_type": "code",
   "execution_count": 114,
   "metadata": {},
   "outputs": [],
   "source": [
    "amps = np.array([abs(results.states[1][i])**2 for i in range(8)])"
   ]
  },
  {
   "cell_type": "code",
   "execution_count": 115,
   "metadata": {},
   "outputs": [
    {
     "data": {
      "text/plain": [
       "<BarContainer object of 8 artists>"
      ]
     },
     "execution_count": 115,
     "metadata": {},
     "output_type": "execute_result"
    },
    {
     "data": {
      "image/png": "[encoded data removed]",
      "text/plain": [
       "<Figure size 432x288 with 1 Axes>"
      ]
     },
     "metadata": {},
     "output_type": "display_data"
    }
   ],
   "source": [
    "plt.bar([0, 1, 2, 3, 4, 5, 6, 7], amps.flatten())"
   ]
  },
  {
   "cell_type": "code",
   "execution_count": 99,
   "metadata": {},
   "outputs": [
    {
     "data": {
      "text/plain": [
       "0    0.000057\n",
       "1    0.001638\n",
       "2    0.000989\n",
       "3    0.033899\n",
       "4    0.001638\n",
       "5    0.035122\n",
       "6    0.033899\n",
       "7    0.892759\n",
       "dtype: float64"
      ]
     },
     "execution_count": 99,
     "metadata": {},
     "output_type": "execute_result"
    }
   ],
   "source": [
    "datapd = pd.Series(amps.flatten())\n",
    "datapd"
   ]
  },
  {
   "cell_type": "code",
   "execution_count": 95,
   "metadata": {},
   "outputs": [
    {
     "data": {
      "text/plain": [
       "<matplotlib.axes._subplots.AxesSubplot at 0x7f6fc4ca7470>"
      ]
     },
     "execution_count": 95,
     "metadata": {},
     "output_type": "execute_result"
    },
    {
     "data": {
      "image/png": "[encoded data removed]",
      "text/plain": [
       "<Figure size 432x288 with 1 Axes>"
      ]
     },
     "metadata": {},
     "output_type": "display_data"
    }
   ],
   "source": [
    "sns.barplot(datapd)"
   ]
  }
 ],
 "metadata": {
  "kernelspec": {
   "display_name": "Python 3",
   "language": "python",
   "name": "python3"
  },
  "language_info": {
   "codemirror_mode": {
    "name": "ipython",
    "version": 3
   },
   "file_extension": ".py",
   "mimetype": "text/x-python",
   "name": "python",
   "nbconvert_exporter": "python",
   "pygments_lexer": "ipython3",
   "version": "3.6.6"
  }
 },
 "nbformat": 4,
 "nbformat_minor": 2
}
