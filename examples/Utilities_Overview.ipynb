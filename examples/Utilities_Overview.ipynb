{
 "cells": [
  {
   "cell_type": "markdown",
   "metadata": {
    "slideshow": {
     "slide_type": "slide"
    }
   },
   "source": [
    "## D-Wave Utilities Package Overview\n",
    "### Nic Ezzell"
   ]
  },
  {
   "cell_type": "markdown",
   "metadata": {
    "slideshow": {
     "slide_type": "fragment"
    }
   },
   "source": [
    "* We'll focus on features, but helpful to be aware of a few \"implementation details\"\n",
    "    1. Uses python 3.x and connects with D-Wave via Ocean\n",
    "    2. All manipulations center around DictRep class"
   ]
  },
  {
   "cell_type": "code",
   "execution_count": 1,
   "metadata": {
    "slideshow": {
     "slide_type": "fragment"
    }
   },
   "outputs": [],
   "source": [
    "# Handle the relevant import statements before moving on...\n",
    "import sys\n",
    "sys.path.append(\"../dwaveutils/dwavetools\")\n",
    "sys.path.append(\"../dwaveutils/probrep\")\n",
    "from dictrep import DictRep\n",
    "from dwavetools import (find_heff_s, make_dwave_schedule, create_heff_csv,\n",
    "                        nqubit_1pauli, nqubit_2pauli, loadAandB,\n",
    "                        make_numeric_schedule, time_interpolation,\n",
    "                        get_numeric_H)\n",
    "import matplotlib.pyplot as plt\n",
    "import numpy as np\n",
    "import pandas as pd\n",
    "import qutip as qt"
   ]
  },
  {
   "cell_type": "markdown",
   "metadata": {
    "slideshow": {
     "slide_type": "slide"
    }
   },
   "source": [
    "### Creating and Visualize a \"Logical\" Hamiltonian"
   ]
  },
  {
   "cell_type": "code",
   "execution_count": 8,
   "metadata": {
    "slideshow": {
     "slide_type": "fragment"
    }
   },
   "outputs": [],
   "source": [
    "H1 = {(0, 0): 0.1, (1, 1): 0.1, (2, 2): 0.1, (0, 1): -0.1, (1, 2): -0.1, (0, 2): 0.1}\n",
    "problem1 = DictRep(H = H1, qpu = 'dwave', vartype = 'ising', encoding = 'logical')"
   ]
  },
  {
   "cell_type": "code",
   "execution_count": 21,
   "metadata": {
    "slideshow": {
     "slide_type": "fragment"
    }
   },
   "outputs": [
    {
     "data": {
      "image/png": "[encoded data removed]",
      "text/plain": [
       "<Figure size 432x288 with 1 Axes>"
      ]
     },
     "metadata": {},
     "output_type": "display_data"
    }
   ],
   "source": [
    "fig = plt.figure()\n",
    "graph = problem1.visualize_graph()\n",
    "plt.savefig(\"3qubit_problem.png\")"
   ]
  },
  {
   "cell_type": "markdown",
   "metadata": {
    "slideshow": {
     "slide_type": "subslide"
    }
   },
   "source": [
    "### Submit the Problem to D-Wave and Post-process Response"
   ]
  },
  {
   "cell_type": "code",
   "execution_count": 10,
   "metadata": {
    "slideshow": {
     "slide_type": "fragment"
    }
   },
   "outputs": [
    {
     "name": "stdout",
     "output_type": "stream",
     "text": [
      "[-0.4, {0: -1, 1: -1, 2: -1}, 1]\n",
      "[0.20000000000000004, {0: -1, 1: 1, 2: -1}, 1]\n",
      "246\n"
     ]
    }
   ],
   "source": [
    "response1 = problem1.call_annealer() # this is the default OCEAN response\n",
    "totaloutput = []\n",
    "for energy, state, n in response1.data(['energy', 'sample', 'num_occurrences']):\n",
    "    nthdata = [energy, state, n]\n",
    "    totaloutput.append(nthdata)\n",
    "print(totaloutput[0])\n",
    "print(totaloutput[-1])\n",
    "print(len(totaloutput))"
   ]
  },
  {
   "cell_type": "markdown",
   "metadata": {
    "slideshow": {
     "slide_type": "subslide"
    }
   },
   "source": [
    "### Trying Same Problem with \"Direct\" Encoding"
   ]
  },
  {
   "cell_type": "code",
   "execution_count": 13,
   "metadata": {
    "slideshow": {
     "slide_type": "fragment"
    }
   },
   "outputs": [
    {
     "name": "stdout",
     "output_type": "stream",
     "text": [
      "No three qubits are connected on Chimera with desired graph Topology.\n"
     ]
    }
   ],
   "source": [
    "H2 = {(0, 0): 0.1, (1, 1): 0.1, (2, 2): 0.1, (0, 1): -0.1, (1, 2): -0.1, (0, 2): 0.1}\n",
    "problem2 = DictRep(H = H2, qpu = 'dwave', vartype = 'ising', encoding = 'direct')\n",
    "try:\n",
    "    response2 = problem2.call_annealer()\n",
    "except:\n",
    "    print(\"No three qubits are connected on Chimera with desired graph Topology.\")"
   ]
  },
  {
   "cell_type": "markdown",
   "metadata": {
    "slideshow": {
     "slide_type": "slide"
    }
   },
   "source": [
    "### Now let's do a parameter swep when our problem has 'variable' weights"
   ]
  },
  {
   "cell_type": "code",
   "execution_count": 24,
   "metadata": {
    "slideshow": {
     "slide_type": "fragment"
    }
   },
   "outputs": [
    {
     "data": {
      "text/html": [
       "<div>\n",
       "<style scoped>\n",
       "    .dataframe tbody tr th:only-of-type {\n",
       "        vertical-align: middle;\n",
       "    }\n",
       "\n",
       "    .dataframe tbody tr th {\n",
       "        vertical-align: top;\n",
       "    }\n",
       "\n",
       "    .dataframe thead th {\n",
       "        text-align: right;\n",
       "    }\n",
       "</style>\n",
       "<table border=\"1\" class=\"dataframe\">\n",
       "  <thead>\n",
       "    <tr style=\"text-align: right;\">\n",
       "      <th></th>\n",
       "      <th>J1</th>\n",
       "      <th>J2</th>\n",
       "      <th>anneal_schedule</th>\n",
       "      <th>energy</th>\n",
       "      <th>h0</th>\n",
       "      <th>num_reads</th>\n",
       "      <th>state</th>\n",
       "    </tr>\n",
       "  </thead>\n",
       "  <tbody>\n",
       "    <tr>\n",
       "      <th>0</th>\n",
       "      <td>-0.1</td>\n",
       "      <td>0.0</td>\n",
       "      <td>[[0, 0], [20, 1]]</td>\n",
       "      <td>-0.2</td>\n",
       "      <td>0.0</td>\n",
       "      <td>1.0</td>\n",
       "      <td>(-1, -1, -1)</td>\n",
       "    </tr>\n",
       "    <tr>\n",
       "      <th>1</th>\n",
       "      <td>-0.1</td>\n",
       "      <td>0.0</td>\n",
       "      <td>[[0, 0], [20, 1]]</td>\n",
       "      <td>-0.2</td>\n",
       "      <td>0.0</td>\n",
       "      <td>1.0</td>\n",
       "      <td>(-1, -1, -1)</td>\n",
       "    </tr>\n",
       "    <tr>\n",
       "      <th>2</th>\n",
       "      <td>-0.1</td>\n",
       "      <td>0.0</td>\n",
       "      <td>[[0, 0], [20, 1]]</td>\n",
       "      <td>-0.2</td>\n",
       "      <td>0.0</td>\n",
       "      <td>1.0</td>\n",
       "      <td>(-1, -1, -1)</td>\n",
       "    </tr>\n",
       "    <tr>\n",
       "      <th>3</th>\n",
       "      <td>-0.1</td>\n",
       "      <td>0.0</td>\n",
       "      <td>[[0, 0], [20, 1]]</td>\n",
       "      <td>-0.2</td>\n",
       "      <td>0.0</td>\n",
       "      <td>1.0</td>\n",
       "      <td>(-1, -1, -1)</td>\n",
       "    </tr>\n",
       "    <tr>\n",
       "      <th>4</th>\n",
       "      <td>-0.1</td>\n",
       "      <td>0.0</td>\n",
       "      <td>[[0, 0], [20, 1]]</td>\n",
       "      <td>-0.2</td>\n",
       "      <td>0.0</td>\n",
       "      <td>1.0</td>\n",
       "      <td>(-1, -1, -1)</td>\n",
       "    </tr>\n",
       "  </tbody>\n",
       "</table>\n",
       "</div>"
      ],
      "text/plain": [
       "    J1   J2    anneal_schedule  energy   h0  num_reads         state\n",
       "0 -0.1  0.0  [[0, 0], [20, 1]]    -0.2  0.0        1.0  (-1, -1, -1)\n",
       "1 -0.1  0.0  [[0, 0], [20, 1]]    -0.2  0.0        1.0  (-1, -1, -1)\n",
       "2 -0.1  0.0  [[0, 0], [20, 1]]    -0.2  0.0        1.0  (-1, -1, -1)\n",
       "3 -0.1  0.0  [[0, 0], [20, 1]]    -0.2  0.0        1.0  (-1, -1, -1)\n",
       "4 -0.1  0.0  [[0, 0], [20, 1]]    -0.2  0.0        1.0  (-1, -1, -1)"
      ]
     },
     "execution_count": 24,
     "metadata": {},
     "output_type": "execute_result"
    }
   ],
   "source": [
    "H3 = {(0, 0): 'h0', (1, 1): 'h0', (2, 2): 'h0', (0, 1): 'J1', (1, 2): 'J1', (0, 2): 'J2'}\n",
    "problem3 = DictRep(H3, 'dwave', 'ising', 'logical')\n",
    "\n",
    "# Set values for abstract parameters to take\n",
    "h0 = np.linspace(0, 0.1, 2)\n",
    "J1 = [-.1]\n",
    "J2 = np.linspace(0, 0.1, 2)\n",
    "\n",
    "# Create anneal schedules to try\n",
    "sch1 = make_dwave_schedule('forward', s = 1, ta = 20)\n",
    "sch2 = make_dwave_schedule('forward', s = 0.5, ta = 10, tp = 5, tq = 5)\n",
    "\n",
    "#propogate these parameters to problem3\n",
    "parameters = {'h0': h0, 'J1': J1, 'J2': J2, 'anneal_schedule': [sch1, sch2], 'num_reads': [1]}\n",
    "problem3.populate_parameters(parameters)\n",
    "data = problem3.call_annealer(cull = False)\n",
    "data.head()"
   ]
  },
  {
   "cell_type": "markdown",
   "metadata": {
    "slideshow": {
     "slide_type": "subslide"
    }
   },
   "source": [
    "### Class allows common post-processing routines to become trivial..."
   ]
  },
  {
   "cell_type": "code",
   "execution_count": 26,
   "metadata": {
    "slideshow": {
     "slide_type": "fragment"
    }
   },
   "outputs": [
    {
     "data": {
      "image/png": "[encoded data removed]",
      "text/plain": [
       "<Figure size 864x576 with 2 Axes>"
      ]
     },
     "metadata": {},
     "output_type": "display_data"
    }
   ],
   "source": [
    "problem3.save_data('test.csv')\n",
    "state_plot = problem3.get_state_plot(figsize = (12, 8), filename = 'test.png')"
   ]
  },
  {
   "cell_type": "markdown",
   "metadata": {
    "slideshow": {
     "slide_type": "slide"
    }
   },
   "source": [
    "### Utilizing Transverse-field Shows Real Power"
   ]
  },
  {
   "cell_type": "code",
   "execution_count": 2,
   "metadata": {
    "slideshow": {
     "slide_type": "fragment"
    }
   },
   "outputs": [],
   "source": [
    "transH = {(0, 0): 'h', (1, 1): 'h', (2, 2): 'h', (0, 1): 'J1', (1, 2): 'J1', (0, 2): 'J2'}\n",
    "problem4 = DictRep(transH, 'dwave', 'ising', 'logical')\n",
    "# load in chip data (simplified csv file created with dwavetools)\n",
    "heff_to_s = pd.read_csv(\"../dwaveutils/probrep/heff_to_s_DW_2000Q_2_June2018.csv\")\n",
    "\n",
    "#set h/ J vals\n",
    "h = [0]\n",
    "J1 = [-.1]\n",
    "J2 = np.linspace(-0.4, 0.4, 2)\n",
    "#set hxvals, find corresponding svals\n",
    "hxvals = np.linspace(0, 0.4, 2)\n",
    "hidxs = pd.Index(heff_to_s['heff'])\n",
    "csv_svals = pd.Index(heff_to_s['s'])\n",
    "s_to_hx = {}\n",
    "svals = []\n",
    "for hx in hxvals:\n",
    "    s = csv_svals[hidxs.get_loc(hx, 'nearest')]\n",
    "    svals.append(s)\n",
    "    s_to_hx[s] = hx\n",
    "    \n",
    "#create anneal_schedules that correspond to quenching at s when heff = hx with various anneal lengths\n",
    "atimes = [100]\n",
    "schedules = [make_dwave_schedule('f', s, ta, 0, 1-s) for s in svals for ta in atimes]"
   ]
  },
  {
   "cell_type": "code",
   "execution_count": 3,
   "metadata": {
    "slideshow": {
     "slide_type": "subslide"
    }
   },
   "outputs": [
    {
     "name": "stdout",
     "output_type": "stream",
     "text": [
      "      J1   J2                     anneal_schedule  energy    h   hx  \\\n",
      "979 -0.1  0.4  [[0, 0], [100, 0.44], [100.56, 1]]    -0.4  0.0  0.4   \n",
      "980 -0.1  0.4  [[0, 0], [100, 0.44], [100.56, 1]]    -0.4  0.0  0.4   \n",
      "981 -0.1  0.4  [[0, 0], [100, 0.44], [100.56, 1]]    -0.4  0.0  0.4   \n",
      "982 -0.1  0.4  [[0, 0], [100, 0.44], [100.56, 1]]     0.2  0.0  0.4   \n",
      "983 -0.1  0.4  [[0, 0], [100, 0.44], [100.56, 1]]     0.2  0.0  0.4   \n",
      "\n",
      "     num_reads         state  \n",
      "979        1.0    (-1, 1, 1)  \n",
      "980        1.0   (-1, -1, 1)  \n",
      "981        1.0    (1, 1, -1)  \n",
      "982        1.0     (1, 1, 1)  \n",
      "983        1.0  (-1, -1, -1)  \n"
     ]
    }
   ],
   "source": [
    "parameters4 = {'h': h, 'J1': J1, 'J2': J2, 'anneal_schedule': schedules, 'num_reads': [1]}\n",
    "problem4.populate_parameters(parameters4)\n",
    "data4 = problem4.call_annealer(cull = False, s_to_hx=s_to_hx)\n",
    "print(data4.tail())\n",
    "problem4.save_data(\"dwave_trans.csv\")"
   ]
  },
  {
   "cell_type": "code",
   "execution_count": 4,
   "metadata": {
    "slideshow": {
     "slide_type": "subslide"
    }
   },
   "outputs": [
    {
     "data": {
      "image/png": "[encoded data removed]",
      "text/plain": [
       "<Figure size 432x288 with 2 Axes>"
      ]
     },
     "metadata": {},
     "output_type": "display_data"
    }
   ],
   "source": [
    "plt = problem4.get_ferro_diagram('J2', 'hx', 'J1')\n",
    "plt.savefig(\"dwave_trans_contour.eps\", dpi=300)"
   ]
  },
  {
   "cell_type": "markdown",
   "metadata": {
    "slideshow": {
     "slide_type": "slide"
    }
   },
   "source": [
    "### Creating and Saving Custom Embedding (Chaining)"
   ]
  },
  {
   "cell_type": "code",
   "execution_count": 5,
   "metadata": {
    "slideshow": {
     "slide_type": "fragment"
    }
   },
   "outputs": [
    {
     "data": {
      "image/png": "[encoded data removed]",
      "text/plain": [
       "<Figure size 432x288 with 1 Axes>"
      ]
     },
     "metadata": {},
     "output_type": "display_data"
    }
   ],
   "source": [
    "Hembedding = {(0, 0): 'h', (4, 4): 'h', (1, 1): 'h/2', (5, 5): 'h/2', (0, 4): 'J2',\n",
    "             (0, 5): 'J1', (1, 4): 'J1', (1, 5): 'J3'}\n",
    "emproblem = DictRep(H = Hembedding, qpu = 'dwave', vartype = 'ising', encoding = 'direct')\n",
    "emproblem.visualize_graph()\n",
    "emproblem.save_config('square_embedding')"
   ]
  },
  {
   "cell_type": "code",
   "execution_count": 6,
   "metadata": {
    "slideshow": {
     "slide_type": "subslide"
    }
   },
   "outputs": [
    {
     "data": {
      "text/html": [
       "<div>\n",
       "<style scoped>\n",
       "    .dataframe tbody tr th:only-of-type {\n",
       "        vertical-align: middle;\n",
       "    }\n",
       "\n",
       "    .dataframe tbody tr th {\n",
       "        vertical-align: top;\n",
       "    }\n",
       "\n",
       "    .dataframe thead th {\n",
       "        text-align: right;\n",
       "    }\n",
       "</style>\n",
       "<table border=\"1\" class=\"dataframe\">\n",
       "  <thead>\n",
       "    <tr style=\"text-align: right;\">\n",
       "      <th></th>\n",
       "      <th>J1</th>\n",
       "      <th>J2</th>\n",
       "      <th>J3</th>\n",
       "      <th>anneal_schedule</th>\n",
       "      <th>energy</th>\n",
       "      <th>h</th>\n",
       "      <th>num_reads</th>\n",
       "      <th>state</th>\n",
       "    </tr>\n",
       "  </thead>\n",
       "  <tbody>\n",
       "    <tr>\n",
       "      <th>0</th>\n",
       "      <td>-0.1</td>\n",
       "      <td>0.0</td>\n",
       "      <td>-1.0</td>\n",
       "      <td>[[0, 0], [20, 1]]</td>\n",
       "      <td>-1.2</td>\n",
       "      <td>0.0</td>\n",
       "      <td>1.0</td>\n",
       "      <td>(-1, -1, -1, -1)</td>\n",
       "    </tr>\n",
       "    <tr>\n",
       "      <th>1</th>\n",
       "      <td>-0.1</td>\n",
       "      <td>0.1</td>\n",
       "      <td>-1.0</td>\n",
       "      <td>[[0, 0], [20, 1]]</td>\n",
       "      <td>-1.1</td>\n",
       "      <td>0.0</td>\n",
       "      <td>1.0</td>\n",
       "      <td>(-1, -1, 1, -1)</td>\n",
       "    </tr>\n",
       "    <tr>\n",
       "      <th>2</th>\n",
       "      <td>-0.1</td>\n",
       "      <td>0.0</td>\n",
       "      <td>-1.0</td>\n",
       "      <td>[[0, 0], [20, 1]]</td>\n",
       "      <td>-1.5</td>\n",
       "      <td>0.1</td>\n",
       "      <td>1.0</td>\n",
       "      <td>(-1, -1, -1, -1)</td>\n",
       "    </tr>\n",
       "    <tr>\n",
       "      <th>3</th>\n",
       "      <td>-0.1</td>\n",
       "      <td>0.1</td>\n",
       "      <td>-1.0</td>\n",
       "      <td>[[0, 0], [20, 1]]</td>\n",
       "      <td>-1.4</td>\n",
       "      <td>0.1</td>\n",
       "      <td>1.0</td>\n",
       "      <td>(-1, -1, -1, -1)</td>\n",
       "    </tr>\n",
       "  </tbody>\n",
       "</table>\n",
       "</div>"
      ],
      "text/plain": [
       "    J1   J2   J3    anneal_schedule  energy    h  num_reads             state\n",
       "0 -0.1  0.0 -1.0  [[0, 0], [20, 1]]    -1.2  0.0        1.0  (-1, -1, -1, -1)\n",
       "1 -0.1  0.1 -1.0  [[0, 0], [20, 1]]    -1.1  0.0        1.0   (-1, -1, 1, -1)\n",
       "2 -0.1  0.0 -1.0  [[0, 0], [20, 1]]    -1.5  0.1        1.0  (-1, -1, -1, -1)\n",
       "3 -0.1  0.1 -1.0  [[0, 0], [20, 1]]    -1.4  0.1        1.0  (-1, -1, -1, -1)"
      ]
     },
     "execution_count": 6,
     "metadata": {},
     "output_type": "execute_result"
    }
   ],
   "source": [
    "# Set values for abstract parameters to take\n",
    "h = np.linspace(0, 0.1, 2)\n",
    "J1 = [-.1]\n",
    "J2 = np.linspace(0, 0.1, 2)\n",
    "J3 = [-1]\n",
    "\n",
    "# Create anneal schedules to try\n",
    "sch1 = make_dwave_schedule('forward', s = 1, ta = 20)\n",
    "\n",
    "#propogate these parameters to problem3\n",
    "parameters = {'h': h, 'J1': J1, 'J2': J2, 'J3': J3, 'anneal_schedule': [sch1], 'num_reads': [1]}\n",
    "emproblem.populate_parameters(parameters)\n",
    "data = emproblem.call_annealer(cull = False)\n",
    "data.head()"
   ]
  },
  {
   "cell_type": "markdown",
   "metadata": {
    "slideshow": {
     "slide_type": "slide"
    }
   },
   "source": [
    "### QuTip Exact Diagonlization and Numerical Simulation"
   ]
  },
  {
   "cell_type": "code",
   "execution_count": 6,
   "metadata": {
    "slideshow": {
     "slide_type": "fragment"
    }
   },
   "outputs": [
    {
     "data": {
      "image/png": "[encoded data removed]",
      "text/plain": [
       "<Figure size 432x288 with 1 Axes>"
      ]
     },
     "metadata": {},
     "output_type": "display_data"
    }
   ],
   "source": [
    "# Form a dictionary representation of a problem and create an anneal_schedule\n",
    "dictparams = {(0, 0): 0.1, (1, 1): 0.1, (2, 2): 0.1, (0, 1): -0.1, (1, 2): -0.1, (0, 2): -0.1}\n",
    "problem = DictRep(H = dictparams, qpu = 'dwave', vartype = 'ising', encoding = \"logical\")\n",
    "ta, sa, tp, tq = 10, 0.4, 5, 0.6\n",
    "T = ta + tp + tq\n",
    "schedule = make_numeric_schedule(.1, **{'ta': ta, 'sa': sa, 'tp': tp, 'tq': tq})\n",
    "times = schedule[0]\n",
    "svals = schedule[1]\n",
    "\n",
    "plt.plot(times, svals)\n",
    "plt.title(\"Anneal Schedule\")\n",
    "plt.show()"
   ]
  },
  {
   "cell_type": "code",
   "execution_count": 7,
   "metadata": {
    "slideshow": {
     "slide_type": "subslide"
    }
   },
   "outputs": [],
   "source": [
    "# Create H(t)\n",
    "processor_data = loadAandB()\n",
    "sch_ABfuncs = time_interpolation(schedule, processor_data)\n",
    "A, B = sch_ABfuncs['A(t)'], sch_ABfuncs['B(t)']\n",
    "Hs = get_numeric_H(problem)\n",
    "HX, HZ = Hs['HX'], Hs['HZ']\n",
    "\n",
    "# Define H(t)\n",
    "H = lambda t : A(t)*HX + B(t)*HZ\n",
    "\n",
    "# Define list_H for QuTiP\n",
    "list_H = [[HX, A], [HZ, B]]"
   ]
  },
  {
   "cell_type": "code",
   "execution_count": 8,
   "metadata": {
    "slideshow": {
     "slide_type": "subslide"
    }
   },
   "outputs": [
    {
     "data": {
      "image/png": "[encoded data removed]",
      "text/plain": [
       "<Figure size 432x288 with 1 Axes>"
      ]
     },
     "metadata": {},
     "output_type": "display_data"
    }
   ],
   "source": [
    "plt.plot(times, A(times))\n",
    "plt.plot(times, B(times))\n",
    "plt.title(\"A(t) and B(t)\")\n",
    "plt.ylabel('E/h (GHz)')\n",
    "plt.xlabel('t')\n",
    "plt.show()"
   ]
  },
  {
   "cell_type": "code",
   "execution_count": 22,
   "metadata": {
    "slideshow": {
     "slide_type": "subslide"
    }
   },
   "outputs": [
    {
     "data": {
      "image/png": "[encoded data removed]",
      "text/plain": [
       "<Figure size 432x288 with 1 Axes>"
      ]
     },
     "metadata": {},
     "output_type": "display_data"
    }
   ],
   "source": [
    "# exact diagonlization of ground-state at the end\n",
    "gs = H(T).groundstate()[1]\n",
    "gs_amps = np.array([abs(gs[i])**2 for i in range(8)])\n",
    "plt.bar([0, 1, 2, 3, 4, 5, 6, 7], gs_amps.flatten())\n",
    "plt.show()"
   ]
  },
  {
   "cell_type": "code",
   "execution_count": 24,
   "metadata": {
    "slideshow": {
     "slide_type": "subslide"
    }
   },
   "outputs": [
    {
     "data": {
      "image/png": "[encoded data removed]",
      "text/plain": [
       "<Figure size 432x288 with 1 Axes>"
      ]
     },
     "metadata": {},
     "output_type": "display_data"
    }
   ],
   "source": [
    "results = qt.sesolve(list_H, H(0).groundstate()[1], times)\n",
    "amps = np.array([abs(results.states[-1][i])**2 for i in range(8)])\n",
    "plt.bar([0, 1, 2, 3, 4, 5, 6, 7], amps.flatten())\n",
    "plt.show()"
   ]
  }
 ],
 "metadata": {
  "kernelspec": {
   "display_name": "Python 3",
   "language": "python",
   "name": "python3"
  },
  "language_info": {
   "codemirror_mode": {
    "name": "ipython",
    "version": 3
   },
   "file_extension": ".py",
   "mimetype": "text/x-python",
   "name": "python",
   "nbconvert_exporter": "python",
   "pygments_lexer": "ipython3",
   "version": "3.6.6"
  }
 },
 "nbformat": 4,
 "nbformat_minor": 2
}
