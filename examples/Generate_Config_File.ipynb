{
 "cells": [
  {
   "cell_type": "markdown",
   "metadata": {},
   "source": [
    "## Generate a Configuration File"
   ]
  },
  {
   "cell_type": "code",
   "execution_count": 1,
   "metadata": {},
   "outputs": [],
   "source": [
    "from dwave.system.samplers import DWaveSampler\n",
    "import yaml\n",
    "import sys\n",
    "import numpy as np\n",
    "sys.path.append(\"../dwaveutils/probrep\")\n",
    "sys.path.append(\"../dwaveutils/dwavetools\")\n",
    "from dictrep import DictRep\n",
    "import copy"
   ]
  },
  {
   "cell_type": "code",
   "execution_count": 2,
   "metadata": {},
   "outputs": [],
   "source": [
    "# get working qubits and couplers of chip loaded via ocean config file\n",
    "sampler = DWaveSampler()\n",
    "wqubits = sampler.properties['qubits']\n",
    "wcouplers = sampler.properties['couplers']"
   ]
  },
  {
   "cell_type": "code",
   "execution_count": 3,
   "metadata": {},
   "outputs": [],
   "source": [
    "H = {(0, 0): 'h', (1, 4): 'J1'}\n",
    "problem = DictRep(H, 'dwave', 'ising', 'direct')"
   ]
  },
  {
   "cell_type": "code",
   "execution_count": 4,
   "metadata": {},
   "outputs": [],
   "source": [
    "problem.tile_H()"
   ]
  }
 ],
 "metadata": {
  "kernelspec": {
   "display_name": "Python 3",
   "language": "python",
   "name": "python3"
  },
  "language_info": {
   "codemirror_mode": {
    "name": "ipython",
    "version": 3
   },
   "file_extension": ".py",
   "mimetype": "text/x-python",
   "name": "python",
   "nbconvert_exporter": "python",
   "pygments_lexer": "ipython3",
   "version": "3.6.6"
  }
 },
 "nbformat": 4,
 "nbformat_minor": 2
}
