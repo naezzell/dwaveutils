{
 "cells": [
  {
   "cell_type": "markdown",
   "metadata": {},
   "source": [
    "By slope, I mean $m_q = \\frac{\\Delta s}{\\Delta t}$ (could be defined as $\\frac{\\Delta t}{\\Delta s}$ just as well, but I think interpretation of a \"faster quench\" correlating with a larger change in s for a fixed change in time makes more sense.)\n",
    "\n",
    "With this mind, the largest possible slope is defined by minimum anneal time as follows: \n",
    "$$m_{qmax} = \\frac{1 - 0}{t_{min} - 0}(\\mu s)^{-1} =  1(\\mu s)^{-1}$$\n",
    "for the 2000Q-2 chip.\n",
    "\n",
    "Hence, $m_q = 1(\\mu s)^{-1}$ does not imply $t_q = 1\\mu s$ in the annealing_schedule parameters for any $\\Delta s$ except for $\\Delta s = 1$, the full anneal. In fact, given the annealing schedules as defined with $t_a$, $t_p$, and $t_q$, then \n",
    "$$t_f = (t_a + t_p + t_q) + \\frac{1 - s}{m_q}.$$"
   ]
  },
  {
   "cell_type": "code",
   "execution_count": null,
   "metadata": {},
   "outputs": [],
   "source": []
  }
 ],
 "metadata": {
  "kernelspec": {
   "display_name": "",
   "name": ""
  },
  "language_info": {
   "name": ""
  }
 },
 "nbformat": 4,
 "nbformat_minor": 2
}
