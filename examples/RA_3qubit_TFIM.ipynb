{
 "cells": [
  {
   "cell_type": "markdown",
   "metadata": {},
   "source": [
    "# Reverse Anneal 3 Qubit TFIM QPT Testing"
   ]
  },
  {
   "cell_type": "code",
   "execution_count": 3,
   "metadata": {},
   "outputs": [],
   "source": [
    "import numpy as np\n",
    "import matplotlib.pyplot as plt\n",
    "%matplotlib inline\n",
    "import pandas as pd\n",
    "import sys\n",
    "import seaborn as sns\n",
    "from functools import reduce\n",
    "\n",
    "sys.path.append(\"../dwaveutils/dwavetools\")\n",
    "sys.path.append(\"../dwaveutils/probrep\")\n",
    "from dictrep import DictRep\n",
    "from dwavetools import make_dwave_schedule"
   ]
  },
  {
   "cell_type": "code",
   "execution_count": 4,
   "metadata": {},
   "outputs": [],
   "source": [
    "transH = {(0, 0): 'h', (1, 1): 'h', (2, 2): 'h', (0, 1): 'J1', (1, 2): 'J1', (0, 2): 'J2'}\n",
    "problem4 = DictRep(transH, 'dwave', 'ising', 'logical')\n",
    "# load in chip data (simplified csv file created with dwavetools)\n",
    "heff_to_s = pd.read_csv(\"../dwaveutils/probrep/heff_to_s_DW_2000Q_2_June2018.csv\")"
   ]
  },
  {
   "cell_type": "code",
   "execution_count": 6,
   "metadata": {},
   "outputs": [],
   "source": [
    "#set h/ J vals\n",
    "h = [0]\n",
    "J1 = [-.1]\n",
    "J2 = np.linspace(-0.4, 0.4, 25)\n",
    "#set hxvals, find corresponding svals\n",
    "hxvals = np.linspace(0, 0.4, 25)\n",
    "hidxs = pd.Index(heff_to_s['heff'])\n",
    "csv_svals = pd.Index(heff_to_s['s'])\n",
    "s_to_hx = {}\n",
    "svals = []\n",
    "for hx in hxvals:\n",
    "    s = csv_svals[hidxs.get_loc(hx, 'nearest')]\n",
    "    svals.append(s)\n",
    "    s_to_hx[s] = hx\n",
    "    \n",
    "#create anneal_schedules that correspond to quenching at s when heff = hx with various anneal lengths\n",
    "atimes = [100]\n",
    "schedules = [make_dwave_schedule('r', s, ta, 0, 1-s) for s in svals for ta in atimes]"
   ]
  },
  {
   "cell_type": "code",
   "execution_count": 7,
   "metadata": {},
   "outputs": [
    {
     "data": {
      "text/plain": [
       "[[[0, 0], [100, 1]],\n",
       " [[0, 1], [100, 0.6659999999999999], [100.334, 1]],\n",
       " [[0, 1], [100, 0.629], [100.371, 1]],\n",
       " [[0, 1], [100, 0.605], [100.395, 1]],\n",
       " [[0, 1], [100, 0.586], [100.414, 1]],\n",
       " [[0, 1], [100, 0.5710000000000001], [100.429, 1]],\n",
       " [[0, 1], [100, 0.5579999999999999], [100.442, 1]],\n",
       " [[0, 1], [100, 0.546], [100.454, 1]],\n",
       " [[0, 1], [100, 0.536], [100.464, 1]],\n",
       " [[0, 1], [100, 0.527], [100.473, 1]],\n",
       " [[0, 1], [100, 0.518], [100.482, 1]],\n",
       " [[0, 1], [100, 0.51], [100.49, 1]],\n",
       " [[0, 1], [100, 0.503], [100.497, 1]],\n",
       " [[0, 1], [100, 0.496], [100.504, 1]],\n",
       " [[0, 1], [100, 0.49], [100.51, 1]],\n",
       " [[0, 1], [100, 0.484], [100.516, 1]],\n",
       " [[0, 1], [100, 0.478], [100.522, 1]],\n",
       " [[0, 1], [100, 0.47200000000000003], [100.528, 1]],\n",
       " [[0, 1], [100, 0.467], [100.533, 1]],\n",
       " [[0, 1], [100, 0.462], [100.538, 1]],\n",
       " [[0, 1], [100, 0.45799999999999996], [100.542, 1]],\n",
       " [[0, 1], [100, 0.45299999999999996], [100.547, 1]],\n",
       " [[0, 1], [100, 0.449], [100.551, 1]],\n",
       " [[0, 1], [100, 0.444], [100.556, 1]],\n",
       " [[0, 1], [100, 0.44], [100.56, 1]]]"
      ]
     },
     "execution_count": 7,
     "metadata": {},
     "output_type": "execute_result"
    }
   ],
   "source": []
  },
  {
   "cell_type": "code",
   "execution_count": null,
   "metadata": {},
   "outputs": [],
   "source": []
  }
 ],
 "metadata": {
  "kernelspec": {
   "display_name": "Python 3",
   "language": "python",
   "name": "python3"
  },
  "language_info": {
   "codemirror_mode": {
    "name": "ipython",
    "version": 3
   },
   "file_extension": ".py",
   "mimetype": "text/x-python",
   "name": "python",
   "nbconvert_exporter": "python",
   "pygments_lexer": "ipython3",
   "version": "3.6.6"
  }
 },
 "nbformat": 4,
 "nbformat_minor": 2
}
