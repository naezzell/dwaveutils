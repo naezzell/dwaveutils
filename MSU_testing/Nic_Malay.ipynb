{
 "cells": [
  {
   "cell_type": "markdown",
   "metadata": {},
   "source": [
    "# Nic/Malay Meeting"
   ]
  },
  {
   "cell_type": "markdown",
   "metadata": {},
   "source": [
    "Stanford Python imports"
   ]
  },
  {
   "cell_type": "code",
   "execution_count": 1,
   "metadata": {},
   "outputs": [],
   "source": [
    "import numpy as np\n",
    "import sys\n",
    "sys.path.append(\"../dwaveutils/dwavetools\")\n",
    "sys.path.append(\"../dwaveutils/probrep\")\n",
    "from dictrep import DictRep\n",
    "import matplotlib.pyplot as plt\n",
    "import matplotlib.ticker as ticker\n",
    "import pandas as pd\n",
    "import seaborn as sns\n",
    "from dwavetools import (make_numeric_schedule)"
   ]
  },
  {
   "cell_type": "markdown",
   "metadata": {},
   "source": [
    "### Generate random Ising Hamiltonain's of size 2, 3, 4, and 5 qubits"
   ]
  },
  {
   "cell_type": "code",
   "execution_count": 2,
   "metadata": {},
   "outputs": [],
   "source": [
    "# set up the randomization and create the matrices\n",
    "def rand_ising(n, seed=None):\n",
    "    \"\"\"\n",
    "    Generates a random Ising Hamiltonian with h in (-1, 1) and \n",
    "    J in (-2, 2) represented as a dictionary.\n",
    "    \n",
    "    Input \n",
    "    ----------------------------------------------------------\n",
    "    n: integer number of qubits desired\n",
    "    seed: optional randomization seed for debugging/ testing\n",
    "    \n",
    "    Output\n",
    "    ----------------------------------------------------------\n",
    "    H = {(0, 0) h0, (1, 1): h1, (0, 1): J01, ...}\n",
    "    \"\"\"\n",
    "    H = {}\n",
    "    if seed:\n",
    "        np.random.seed(seed)\n",
    "    for i in range(n):\n",
    "        H[(i, i)] = (2*np.random.random())-1\n",
    "        for j in range(n):\n",
    "            if j < i:\n",
    "                H[(j, i)] = (4*np.random.random())-2\n",
    "                \n",
    "    return H\n",
    "\n",
    "dictH2 = rand_ising(2, 1)\n",
    "dictH3 = rand_ising(3, 2)\n",
    "dictH4 = rand_ising(4, 3)\n",
    "dictH5 = rand_ising(5, 4)\n",
    "dictHs = [dictH2, dictH3, dictH4, dictH5]"
   ]
  },
  {
   "cell_type": "code",
   "execution_count": 3,
   "metadata": {},
   "outputs": [],
   "source": [
    "# save the random Ising Hs to file\n",
    "for (n, dictH) in enumerate(dictHs):\n",
    "    fname = \"H{}dict.txt\".format(n+2)\n",
    "    with open(fname, 'w') as file:\n",
    "        for key, value in dictH.items():\n",
    "            file.write(str(key) + \" \" + str(value) + \"\\n\")"
   ]
  },
  {
   "cell_type": "markdown",
   "metadata": {},
   "source": [
    "### This next part is just to turn it into a dictrep object which I use to perform numerical anneals and whatnot. "
   ]
  },
  {
   "cell_type": "code",
   "execution_count": 4,
   "metadata": {},
   "outputs": [
    {
     "name": "stdout",
     "output_type": "stream",
     "text": [
      "{(0, 0): -0.165955990594852, (1, 1): 0.4406489868843162, (0, 1): -1.9995425007306205}\n",
      "\n",
      "\n",
      "{(0, 0): -0.12801019571599248, (1, 1): -0.9481475363442173, (0, 1): 0.19864991151483657, (2, 2): -0.12935521476344625, (0, 2): -0.3185287916500439, (1, 2): -0.6786607159845035}\n",
      "\n",
      "\n",
      "{(0, 0): 0.10159580514915101, (1, 1): 0.41629564523620965, (0, 1): -0.8363810443482227, (2, 2): 0.02165521039532603, (0, 2): 1.5717878173906188, (1, 2): 1.5851723557337523, (3, 3): -0.7488293790723275, (0, 3): -1.171028487447253, (1, 3): -1.7941311867966805, (2, 3): -0.23676062539745413}\n",
      "\n",
      "\n",
      "{(0, 0): 0.9340596780273533, (1, 1): 0.09446449835144466, (0, 1): 1.8907374398595373, (2, 2): 0.4296319873487293, (0, 2): 0.7909152983890833, (1, 2): -1.1356420176784945, (3, 3): 0.9525489095524835, (0, 3): -1.9750789791816405, (1, 3): -0.9880705504662242, (2, 3): -0.26083387038221684, (4, 4): 0.5587658435875049, (0, 4): -1.2092597015989877, (1, 4): 1.451972942396889, (2, 4): 1.933602708701251, (3, 4): -1.3446310343812051}\n"
     ]
    }
   ],
   "source": [
    "# turn these into \"dictrep\" Hamiltonians\n",
    "H2 = DictRep(dictH2, 'numerical', 'ising', 'logical')\n",
    "H3 = DictRep(dictH3, 'numerical', 'ising', 'logical')\n",
    "H4 = DictRep(dictH4, 'numerical', 'ising', 'logical')\n",
    "H5 = DictRep(dictH5, 'numerical', 'ising', 'logical')\n",
    "print(H2.H)\n",
    "print(\"\\n\")\n",
    "print(H3.H)\n",
    "print(\"\\n\")\n",
    "print(H4.H)\n",
    "print(\"\\n\")\n",
    "print(H5.H)"
   ]
  },
  {
   "cell_type": "markdown",
   "metadata": {},
   "source": [
    "### Perform Direct Diagonliation\n",
    "Since these are randomly generated Ising problems with only $\\sigma_z$ terms, then it is likely that that there are no degenerate energies. Hence, these all have a single ground-state that is NOT a superposition in the computation (z basis). As such, these ground-states are just a long list of mostly 0's and a single 1 corresponding to the gs. To make it easier to read, I just found the placement of this 1. I.e. for the H3 Hamiltonian as defined, the ground-state happens to be $|0> \\otimes |0> \\otimes |0>$, which corresponds to the $|0>$ state in the 3-qubit Hilbert space, so the first nonzero element is 0. \n",
    "\n",
    "Similarly, the first non-zero (and therefore only one) in the H5 ground-state is 19. \n",
    "\n",
    "WARNING: THESE USE 0 BASED NUMBERING."
   ]
  },
  {
   "cell_type": "code",
   "execution_count": 5,
   "metadata": {},
   "outputs": [
    {
     "name": "stdout",
     "output_type": "stream",
     "text": [
      "[3, 0, 2, 19]\n"
     ]
    }
   ],
   "source": [
    "# perform direct diagonlization and print the index of the ground-state\n",
    "# (we can do this because there will (most likely) be a singular state with randomly generated Hz\n",
    "H2diag = H2.diag_H()\n",
    "H3diag = H3.diag_H()\n",
    "H4diag = H4.diag_H()\n",
    "H5diag = H5.diag_H()\n",
    "Hdiags = [H2diag, H3diag, H4diag, H5diag]\n",
    "firstnonzero = [0, 0, 0, 0]\n",
    "for (idx1, Hdiag) in enumerate(Hdiags):\n",
    "    for (idx2, ele) in enumerate(Hdiag):\n",
    "        if ele == 1:\n",
    "            firstnonzero[idx1] = idx2\n",
    "print(firstnonzero)"
   ]
  },
  {
   "cell_type": "markdown",
   "metadata": {},
   "source": [
    "### Perform Forward Anneal Until G-S is well approximated\n",
    "For these, I use my numerical forward anneal protocol to find the ground-state of H. In particular, I print the state-vector I find, the \"print(amps)\" statement, and I plot the discrete probability distribution function that follows (the bar plot below it).\n",
    "\n",
    "By \"until G-S is well approximated,\" I mean (using your own protocal) find an annealing length (in your own time units) that is long enough such that the ground-state obtained with this method is very close to the ground-state obtained by direct diagonlization. For example, for H2, the output should be a bar in the '3' position and there should be no appreciate probability of getting any other state. In my case, this took a forward annealing length of T2 = 18. \n",
    "\n",
    "NOTE: TRY TO FIND THE LOWEST TIME FOR WHICH YOU GET A GOOD APPROXIMATION, NOW JUST ONE THAT WORKS"
   ]
  },
  {
   "cell_type": "code",
   "execution_count": 62,
   "metadata": {},
   "outputs": [
    {
     "name": "stdout",
     "output_type": "stream",
     "text": [
      "[3.03895177e-02 1.04781550e-08 2.10228609e-08 9.69610451e-01]\n"
     ]
    },
    {
     "data": {
      "image/png": "[encoded data removed]",
      "text/plain": [
       "<Figure size 432x288 with 1 Axes>"
      ]
     },
     "metadata": {},
     "output_type": "display_data"
    }
   ],
   "source": [
    "# H2\n",
    "disc2, T2 = .1, 18\n",
    "sch2 = make_numeric_schedule(disc2, **{'ta': T2})\n",
    "amps = H2.nf_anneal(sch2)\n",
    "print(amps.flatten())\n",
    "probs = np.array([abs(amps[i])**2 for i in range(4)])\n",
    "plt.bar([i for i in range(4)], probs.flatten())\n",
    "plt.show()"
   ]
  },
  {
   "cell_type": "code",
   "execution_count": 65,
   "metadata": {},
   "outputs": [
    {
     "name": "stdout",
     "output_type": "stream",
     "text": [
      "[9.99717429e-01 7.03125019e-08 1.59435732e-08 4.28455927e-09\n",
      " 2.81018635e-04 1.45236117e-06 1.21160595e-10 9.18704289e-09]\n"
     ]
    },
    {
     "data": {
      "image/png": "[encoded data removed]",
      "text/plain": [
       "<Figure size 432x288 with 1 Axes>"
      ]
     },
     "metadata": {},
     "output_type": "display_data"
    }
   ],
   "source": [
    "# H3\n",
    "disc3, T3 = .1, 18\n",
    "sch3 = make_numeric_schedule(disc3, **{'ta': T3})\n",
    "amps = H3.nf_anneal(sch3)\n",
    "print(amps.flatten())\n",
    "probs = np.array([abs(amps[i])**2 for i in range(2**3)])\n",
    "plt.bar([i for i in range(2**3)], probs.flatten())\n",
    "plt.show()"
   ]
  },
  {
   "cell_type": "code",
   "execution_count": 66,
   "metadata": {},
   "outputs": [
    {
     "name": "stdout",
     "output_type": "stream",
     "text": [
      "[2.36288648e-08 8.92976426e-14 9.27315620e-01 3.35000378e-10\n",
      " 2.57761919e-10 5.52768533e-10 4.00397899e-10 8.14151733e-10\n",
      " 1.30129737e-08 1.69843618e-11 1.93285819e-09 2.70644705e-09\n",
      " 9.70962805e-09 7.26843043e-02 1.09881332e-11 2.21766771e-08]\n"
     ]
    },
    {
     "data": {
      "image/png": "[encoded data removed]",
      "text/plain": [
       "<Figure size 432x288 with 1 Axes>"
      ]
     },
     "metadata": {},
     "output_type": "display_data"
    }
   ],
   "source": [
    "# H4\n",
    "disc4, T4 = .1, 50\n",
    "sch4 = make_numeric_schedule(disc4, **{'ta': T4})\n",
    "amps = H4.nf_anneal(sch4)\n",
    "print(amps.flatten())\n",
    "probs = np.array([abs(amps[i])**2 for i in range(2**4)])\n",
    "plt.bar([i for i in range(2**4)], probs.flatten())\n",
    "plt.show()"
   ]
  },
  {
   "cell_type": "code",
   "execution_count": 67,
   "metadata": {},
   "outputs": [
    {
     "name": "stdout",
     "output_type": "stream",
     "text": [
      "[5.18010676e-12 1.36448574e-10 8.67459923e-14 3.74606066e-10\n",
      " 8.01531727e-09 6.86308548e-14 2.04329423e-13 2.16940817e-13\n",
      " 6.82220134e-11 7.39192669e-12 4.44297664e-15 1.46305628e-10\n",
      " 8.97786357e-06 1.78865083e-10 3.98143851e-08 8.35500691e-11\n",
      " 1.09992421e-09 2.91907874e-08 4.03539081e-10 9.99990901e-01\n",
      " 6.43032592e-10 1.85897309e-09 4.82312483e-10 1.52072858e-08\n",
      " 4.38058658e-14 7.31918492e-13 2.93108334e-10 1.21499966e-08\n",
      " 6.73686741e-10 7.89048734e-14 1.27402703e-09 9.42301847e-09]\n"
     ]
    },
    {
     "data": {
      "image/png": "[encoded data removed]",
      "text/plain": [
       "<Figure size 432x288 with 1 Axes>"
      ]
     },
     "metadata": {},
     "output_type": "display_data"
    }
   ],
   "source": [
    "# H5 \n",
    "disc5, T5 = .1, 50\n",
    "sch5 = make_numeric_schedule(disc5, **{'ta':T5})\n",
    "amps = H5.nf_anneal(sch5)\n",
    "print(amps.flatten())\n",
    "probs = np.array([abs(amps[i])**2 for i in range(2**5)])\n",
    "plt.bar([i for i in range(2**5)], probs.flatten())\n",
    "plt.show()"
   ]
  },
  {
   "cell_type": "markdown",
   "metadata": {},
   "source": [
    "### Now perform the anneal with 1/10 of the time to see how state-distribution changes\n",
    "The idea is that, regardless of the method you use to anneal, if you find a time that works and then use 1/10 of this time, the distribution of states should be a worse approximation to the actual ground-state. \n",
    "\n",
    "Given that your method is different (not using the D-wave schedule), we should not expect that our outputs should be exactly the same. In particular, it is very hard to guess which states should become to be populated. One test that would be good to do on your end, for example, is to do an anneal for a very, very short time. Ideally, this should give you a ground-state that well approximates the ground-state of your initial Hamiltonian. \n",
    "\n",
    "You can find this with your diagonlization routine with your Hi, for example. "
   ]
  },
  {
   "cell_type": "code",
   "execution_count": 68,
   "metadata": {},
   "outputs": [
    {
     "name": "stdout",
     "output_type": "stream",
     "text": [
      "[0.43659408 0.01035347 0.00166864 0.55138381]\n"
     ]
    },
    {
     "data": {
      "image/png": "[encoded data removed]",
      "text/plain": [
       "<Figure size 432x288 with 1 Axes>"
      ]
     },
     "metadata": {},
     "output_type": "display_data"
    }
   ],
   "source": [
    "# H2\n",
    "disc2, T2 = .1, 18/10\n",
    "sch2 = make_numeric_schedule(disc2, **{'ta': T2})\n",
    "amps = H2.nf_anneal(sch2)\n",
    "print(amps.flatten())\n",
    "probs = np.array([abs(amps[i])**2 for i in range(4)])\n",
    "plt.bar([i for i in range(4)], probs.flatten())\n",
    "plt.show()"
   ]
  },
  {
   "cell_type": "code",
   "execution_count": 69,
   "metadata": {},
   "outputs": [
    {
     "name": "stdout",
     "output_type": "stream",
     "text": [
      "[0.42656194 0.0476984  0.01736655 0.06825431 0.25251875 0.14089992\n",
      " 0.00157192 0.04512821]\n"
     ]
    },
    {
     "data": {
      "image/png": "[encoded data removed]",
      "text/plain": [
       "<Figure size 432x288 with 1 Axes>"
      ]
     },
     "metadata": {},
     "output_type": "display_data"
    }
   ],
   "source": [
    "# H3\n",
    "disc3, T3 = .1, 18/10\n",
    "sch3 = make_numeric_schedule(disc3, **{'ta': T3})\n",
    "amps = H3.nf_anneal(sch3)\n",
    "print(amps.flatten())\n",
    "probs = np.array([abs(amps[i])**2 for i in range(2**3)])\n",
    "plt.bar([i for i in range(2**3)], probs.flatten())\n",
    "plt.show()"
   ]
  },
  {
   "cell_type": "code",
   "execution_count": 70,
   "metadata": {},
   "outputs": [
    {
     "name": "stdout",
     "output_type": "stream",
     "text": [
      "[1.38660189e-03 3.46653587e-10 5.25144705e-01 2.21308427e-04\n",
      " 1.14237666e-04 8.41095165e-06 3.33778683e-05 1.47953184e-04\n",
      " 8.10612226e-05 1.02236881e-07 4.55443189e-06 2.67598117e-08\n",
      " 9.58155554e-03 4.62364098e-01 2.33992442e-08 9.11982888e-04]\n"
     ]
    },
    {
     "data": {
      "image/png": "[encoded data removed]",
      "text/plain": [
       "<Figure size 432x288 with 1 Axes>"
      ]
     },
     "metadata": {},
     "output_type": "display_data"
    }
   ],
   "source": [
    "# H4\n",
    "disc4, T4 = .1, 50/10\n",
    "sch4 = make_numeric_schedule(disc4, **{'ta': T4})\n",
    "amps = H4.nf_anneal(sch4)\n",
    "print(amps.flatten())\n",
    "probs = np.array([abs(amps[i])**2 for i in range(2**4)])\n",
    "plt.bar([i for i in range(2**4)], probs.flatten())\n",
    "plt.show()"
   ]
  },
  {
   "cell_type": "code",
   "execution_count": 58,
   "metadata": {},
   "outputs": [
    {
     "data": {
      "image/png": "[encoded data removed]",
      "text/plain": [
       "<Figure size 432x288 with 1 Axes>"
      ]
     },
     "metadata": {},
     "output_type": "display_data"
    }
   ],
   "source": [
    "# H5 \n",
    "disc5, T5 = .1, 50/10\n",
    "sch5 = make_numeric_schedule(disc5, **{'ta':T5})\n",
    "amps = H5.nf_anneal(sch5)\n",
    "probs = np.array([abs(amps[i])**2 for i in range(2**5)])\n",
    "plt.bar([i for i in range(2**5)], probs.flatten())\n",
    "plt.show()"
   ]
  }
 ],
 "metadata": {
  "kernelspec": {
   "display_name": "Python 3",
   "language": "python",
   "name": "python3"
  },
  "language_info": {
   "codemirror_mode": {
    "name": "ipython",
    "version": 3
   },
   "file_extension": ".py",
   "mimetype": "text/x-python",
   "name": "python",
   "nbconvert_exporter": "python",
   "pygments_lexer": "ipython3",
   "version": "3.6.6"
  }
 },
 "nbformat": 4,
 "nbformat_minor": 2
}
