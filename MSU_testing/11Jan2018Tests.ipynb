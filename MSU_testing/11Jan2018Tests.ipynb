{
 "cells": [
  {
   "cell_type": "markdown",
   "metadata": {},
   "source": [
    "# KL-div on GS subspace\n",
    "Perhaps KL needlessly obfuscates question: does FREM improve the probability of sampling the ground-state on near-term quantum annealers such as D-Wave's? Instead, maybe we should consider P_gs(annealing_method) as primary criterion and KL as one of theoretical interest? \n",
    "## Date: 11 January 2018"
   ]
  },
  {
   "cell_type": "code",
   "execution_count": 1,
   "metadata": {},
   "outputs": [],
   "source": [
    "# The Stanard Hodgepodge of Imports for Python\n",
    "import qutip as qt\n",
    "import qutip.states as qts\n",
    "import qutip.operators as qto\n",
    "import numpy as np\n",
    "import matplotlib.pyplot as plt\n",
    "%matplotlib inline\n",
    "import pandas as pd\n",
    "import sys\n",
    "import seaborn as sns\n",
    "from functools import reduce\n",
    "from functools import partial\n",
    "from scipy.stats import entropy as entropy\n",
    "import networkx as nx\n",
    "import numpy as np\n",
    "from timeit import default_timer as timer\n",
    "\n",
    "sys.path.append(\"../dwaveutils/dwavetools\")\n",
    "sys.path.append(\"../dwaveutils/probrep\")\n",
    "from dictrep import DictRep\n",
    "from dwavetools import (nqubit_1pauli, nqubit_2pauli, loadAandB, dict_to_qutip,\n",
    "                       make_numeric_schedule, get_numeric_H, time_interpolation,\n",
    "                       gs_calculator, random_partition, KL_div, ml_measurement)"
   ]
  },
  {
   "cell_type": "code",
   "execution_count": 2,
   "metadata": {},
   "outputs": [],
   "source": [
    "import warnings\n",
    "warnings.filterwarnings(\"ignore\")"
   ]
  },
  {
   "cell_type": "markdown",
   "metadata": {},
   "source": [
    "# Set-up the Problem"
   ]
  },
  {
   "cell_type": "code",
   "execution_count": 3,
   "metadata": {},
   "outputs": [
    {
     "name": "stdout",
     "output_type": "stream",
     "text": [
      "[0.   0.   0.   0.   0.   0.   0.25 0.   0.   0.   0.25 0.   0.25 0.\n",
      " 0.25 0.  ]\n"
     ]
    },
    {
     "data": {
      "image/png": "[encoded data removed]",
      "text/plain": [
       "<Figure size 432x288 with 1 Axes>"
      ]
     },
     "metadata": {},
     "output_type": "display_data"
    }
   ],
   "source": [
    "# First, let's create a sample 4 qubit Hamiltonian no h bias\n",
    "dictH = {(0, 0): 1, (1, 1): 1, (2, 2): 1, (3, 3): -1, (0, 1): 1, (1, 2): 1, (2, 3): 1, (0, 3): 1, (1, 3): 1, (0, 2): 1}\n",
    "H = DictRep(H = dictH, qpu = 'numerical', vartype = 'ising', encoding = 'logical')\n",
    "graph = H.visualize_graph()\n",
    "gs = H.diag_H()\n",
    "print(gs)"
   ]
  },
  {
   "cell_type": "code",
   "execution_count": 12,
   "metadata": {},
   "outputs": [
    {
     "name": "stdout",
     "output_type": "stream",
     "text": [
      "50 runs takes 779.3751136120009 seconds to run\n"
     ]
    }
   ],
   "source": [
    "# set-up the problem\n",
    "T = 1\n",
    "s = 0.5\n",
    "ftr = 0.5\n",
    "num_runs = 50\n",
    "\n",
    "# time this as well\n",
    "start = timer()\n",
    "# run many instances of the problem with a random partition each time\n",
    "for i in range(num_runs):\n",
    "    results = H.frem_comparison(T, s, ftr)\n",
    "end = timer()\n",
    "elapsed_time = (end - start)\n",
    "print(\"{} runs takes {} seconds to run\".format(num_runs, elapsed_time))\n",
    "\n",
    "data = H.data"
   ]
  },
  {
   "cell_type": "markdown",
   "metadata": {},
   "source": [
    "# Bulk Data Analysis"
   ]
  },
  {
   "cell_type": "code",
   "execution_count": 5,
   "metadata": {},
   "outputs": [
    {
     "name": "stdout",
     "output_type": "stream",
     "text": [
      "Average KL divergence of forward annealing over 5 runs is 0.3712979777868924\n",
      "Average KL divergence of reverse annealing over 5 runs is 1.6664206159413886\n",
      "Average KL divergence of frem annealing over 5 runs is 0.6388467969270892\n",
      "Minimum KL divergence of forward annealing over 5 runs is 0.3712979777868924\n",
      "Minimum KL divergence of reverse annealing over 5 runs is 1.6664206159413886\n",
      "Minimum KL divergence of frem annealing over 5 runs is 0.2735374051067671\n"
     ]
    }
   ],
   "source": [
    "# get averages of KL divergence\n",
    "fKL_avg = data.loc[data['method'] == 'forward']['KL_div'].mean()\n",
    "print(\"Average KL divergence of forward annealing over {} runs is {}\".format(num_runs, fKL_avg))\n",
    "rKL_avg = data.loc[data['method'] == 'reverse']['KL_div'].mean()\n",
    "print(\"Average KL divergence of reverse annealing over {} runs is {}\".format(num_runs, rKL_avg))\n",
    "fremKL_avg = data.loc[data['method'] == 'frem']['KL_div'].mean()\n",
    "print(\"Average KL divergence of frem annealing over {} runs is {}\".format(num_runs, fremKL_avg))\n",
    "\n",
    "# get minimum values\n",
    "fKL_min = data.loc[data['method'] == 'forward']['KL_div'].min()\n",
    "print(\"Minimum KL divergence of forward annealing over {} runs is {}\".format(num_runs, fKL_min))\n",
    "rKL_min = data.loc[data['method'] == 'reverse']['KL_div'].min()\n",
    "print(\"Minimum KL divergence of reverse annealing over {} runs is {}\".format(num_runs, rKL_min))\n",
    "fremKL_min = data.loc[data['method'] == 'frem']['KL_div'].min()\n",
    "print(\"Minimum KL divergence of frem annealing over {} runs is {}\".format(num_runs, fremKL_min))"
   ]
  },
  {
   "cell_type": "markdown",
   "metadata": {},
   "source": [
    "# Finer Combed Data Analysis"
   ]
  },
  {
   "cell_type": "markdown",
   "metadata": {},
   "source": [
    "## Are KL_divergence and ground-state probability equivalent 'experimental success criteria' (ESC)?"
   ]
  },
  {
   "cell_type": "code",
   "execution_count": 13,
   "metadata": {},
   "outputs": [
    {
     "name": "stdout",
     "output_type": "stream",
     "text": [
      "Number of frem trials with lower KL-div than forward: 16\n",
      "Number of frem trial with lower gsprob than forward: 31\n"
     ]
    }
   ],
   "source": [
    "f_KL = data.loc[data['method'] == 'forward'].KL_div[0]\n",
    "f_gsprob = data.loc[data['method'] == 'forward'].gs_prob[0]\n",
    "frem_lower_KL = data.loc[data['method'] == 'frem'][data['KL_div'] < f_KL]\n",
    "frem_lower_gsprob = data.loc[data['method'] == 'frem'][data['gs_prob'] > f_gsprob]\n",
    "print(\"Number of frem trials with lower KL-div than forward: {}\".format(len(frem_lower_KL)))\n",
    "print(\"Number of frem trial with lower gsprob than forward: {}\".format(len(frem_lower_gsprob)))"
   ]
  },
  {
   "cell_type": "markdown",
   "metadata": {},
   "source": [
    "### This quick computation shows that there they are not equivalent. In fact, using ground-state probability as the appropriate criterion indicates shows that 31/50 trials are successful as compared to 16/50. "
   ]
  },
  {
   "cell_type": "markdown",
   "metadata": {},
   "source": [
    "## Do they at least follow the same \"functional form\" (i.e. related by a constant factor)?"
   ]
  },
  {
   "cell_type": "code",
   "execution_count": 14,
   "metadata": {},
   "outputs": [
    {
     "data": {
      "text/html": [
       "<div>\n",
       "<style scoped>\n",
       "    .dataframe tbody tr th:only-of-type {\n",
       "        vertical-align: middle;\n",
       "    }\n",
       "\n",
       "    .dataframe tbody tr th {\n",
       "        vertical-align: top;\n",
       "    }\n",
       "\n",
       "    .dataframe thead th {\n",
       "        text-align: right;\n",
       "    }\n",
       "</style>\n",
       "<table border=\"1\" class=\"dataframe\">\n",
       "  <thead>\n",
       "    <tr style=\"text-align: right;\">\n",
       "      <th></th>\n",
       "      <th>KL_div</th>\n",
       "      <th>T</th>\n",
       "      <th>ftr</th>\n",
       "      <th>gs_KL_div</th>\n",
       "      <th>gs_prob</th>\n",
       "      <th>method</th>\n",
       "      <th>part_size</th>\n",
       "      <th>probs</th>\n",
       "      <th>s</th>\n",
       "    </tr>\n",
       "  </thead>\n",
       "  <tbody>\n",
       "    <tr>\n",
       "      <th>26</th>\n",
       "      <td>0.315726</td>\n",
       "      <td>1.0</td>\n",
       "      <td>0.5</td>\n",
       "      <td>0.265973</td>\n",
       "      <td>0.951465</td>\n",
       "      <td>frem</td>\n",
       "      <td>3.0</td>\n",
       "      <td>[0.00021328471998986238, 0.0014934765445783333...</td>\n",
       "      <td>0.5</td>\n",
       "    </tr>\n",
       "    <tr>\n",
       "      <th>20</th>\n",
       "      <td>0.315726</td>\n",
       "      <td>1.0</td>\n",
       "      <td>0.5</td>\n",
       "      <td>0.265973</td>\n",
       "      <td>0.951465</td>\n",
       "      <td>frem</td>\n",
       "      <td>3.0</td>\n",
       "      <td>[0.0002132847199898678, 0.0014934765445783536,...</td>\n",
       "      <td>0.5</td>\n",
       "    </tr>\n",
       "    <tr>\n",
       "      <th>2</th>\n",
       "      <td>0.501726</td>\n",
       "      <td>1.0</td>\n",
       "      <td>0.5</td>\n",
       "      <td>0.390938</td>\n",
       "      <td>0.895129</td>\n",
       "      <td>frem</td>\n",
       "      <td>3.0</td>\n",
       "      <td>[0.00011438471920481049, 0.0003542260043182645...</td>\n",
       "      <td>0.5</td>\n",
       "    </tr>\n",
       "    <tr>\n",
       "      <th>164</th>\n",
       "      <td>0.501726</td>\n",
       "      <td>1.0</td>\n",
       "      <td>0.5</td>\n",
       "      <td>0.390938</td>\n",
       "      <td>0.895129</td>\n",
       "      <td>frem</td>\n",
       "      <td>3.0</td>\n",
       "      <td>[0.00011438471920481079, 0.0003542260043182643...</td>\n",
       "      <td>0.5</td>\n",
       "    </tr>\n",
       "    <tr>\n",
       "      <th>146</th>\n",
       "      <td>0.214206</td>\n",
       "      <td>1.0</td>\n",
       "      <td>0.5</td>\n",
       "      <td>0.103191</td>\n",
       "      <td>0.894925</td>\n",
       "      <td>frem</td>\n",
       "      <td>2.0</td>\n",
       "      <td>[0.0003114314980055508, 0.0011498468254938178,...</td>\n",
       "      <td>0.5</td>\n",
       "    </tr>\n",
       "    <tr>\n",
       "      <th>38</th>\n",
       "      <td>0.214206</td>\n",
       "      <td>1.0</td>\n",
       "      <td>0.5</td>\n",
       "      <td>0.103191</td>\n",
       "      <td>0.894925</td>\n",
       "      <td>frem</td>\n",
       "      <td>2.0</td>\n",
       "      <td>[0.0003114314980055461, 0.0011498468254938117,...</td>\n",
       "      <td>0.5</td>\n",
       "    </tr>\n",
       "    <tr>\n",
       "      <th>62</th>\n",
       "      <td>0.214206</td>\n",
       "      <td>1.0</td>\n",
       "      <td>0.5</td>\n",
       "      <td>0.103191</td>\n",
       "      <td>0.894925</td>\n",
       "      <td>frem</td>\n",
       "      <td>2.0</td>\n",
       "      <td>[0.0003114314980055461, 0.0011498468254938117,...</td>\n",
       "      <td>0.5</td>\n",
       "    </tr>\n",
       "    <tr>\n",
       "      <th>29</th>\n",
       "      <td>0.342192</td>\n",
       "      <td>1.0</td>\n",
       "      <td>0.5</td>\n",
       "      <td>0.230124</td>\n",
       "      <td>0.893984</td>\n",
       "      <td>frem</td>\n",
       "      <td>2.0</td>\n",
       "      <td>[0.00033341424989312857, 0.018509560401513008,...</td>\n",
       "      <td>0.5</td>\n",
       "    </tr>\n",
       "    <tr>\n",
       "      <th>77</th>\n",
       "      <td>0.936239</td>\n",
       "      <td>1.0</td>\n",
       "      <td>0.5</td>\n",
       "      <td>0.823390</td>\n",
       "      <td>0.893286</td>\n",
       "      <td>frem</td>\n",
       "      <td>3.0</td>\n",
       "      <td>[3.8509626069684166e-05, 0.0005163002550861999...</td>\n",
       "      <td>0.5</td>\n",
       "    </tr>\n",
       "    <tr>\n",
       "      <th>149</th>\n",
       "      <td>0.199073</td>\n",
       "      <td>1.0</td>\n",
       "      <td>0.5</td>\n",
       "      <td>0.081778</td>\n",
       "      <td>0.889323</td>\n",
       "      <td>frem</td>\n",
       "      <td>2.0</td>\n",
       "      <td>[0.0004933660119077634, 0.000183414735128154, ...</td>\n",
       "      <td>0.5</td>\n",
       "    </tr>\n",
       "    <tr>\n",
       "      <th>59</th>\n",
       "      <td>0.509095</td>\n",
       "      <td>1.0</td>\n",
       "      <td>0.5</td>\n",
       "      <td>0.391666</td>\n",
       "      <td>0.889204</td>\n",
       "      <td>frem</td>\n",
       "      <td>2.0</td>\n",
       "      <td>[0.0002940577403318905, 0.005136477296973243, ...</td>\n",
       "      <td>0.5</td>\n",
       "    </tr>\n",
       "    <tr>\n",
       "      <th>131</th>\n",
       "      <td>0.862184</td>\n",
       "      <td>1.0</td>\n",
       "      <td>0.5</td>\n",
       "      <td>0.731401</td>\n",
       "      <td>0.877408</td>\n",
       "      <td>frem</td>\n",
       "      <td>3.0</td>\n",
       "      <td>[0.00013756403009356708, 0.0002733915773992491...</td>\n",
       "      <td>0.5</td>\n",
       "    </tr>\n",
       "    <tr>\n",
       "      <th>71</th>\n",
       "      <td>0.862184</td>\n",
       "      <td>1.0</td>\n",
       "      <td>0.5</td>\n",
       "      <td>0.731401</td>\n",
       "      <td>0.877408</td>\n",
       "      <td>frem</td>\n",
       "      <td>3.0</td>\n",
       "      <td>[0.0001375640300935552, 0.0002733915773992513,...</td>\n",
       "      <td>0.5</td>\n",
       "    </tr>\n",
       "    <tr>\n",
       "      <th>8</th>\n",
       "      <td>0.862184</td>\n",
       "      <td>1.0</td>\n",
       "      <td>0.5</td>\n",
       "      <td>0.731401</td>\n",
       "      <td>0.877408</td>\n",
       "      <td>frem</td>\n",
       "      <td>3.0</td>\n",
       "      <td>[0.00013756403009355166, 0.0002733915773992432...</td>\n",
       "      <td>0.5</td>\n",
       "    </tr>\n",
       "    <tr>\n",
       "      <th>113</th>\n",
       "      <td>0.430432</td>\n",
       "      <td>1.0</td>\n",
       "      <td>0.5</td>\n",
       "      <td>0.275622</td>\n",
       "      <td>0.856578</td>\n",
       "      <td>frem</td>\n",
       "      <td>2.0</td>\n",
       "      <td>[0.000416782198903101, 0.0018170032965692023, ...</td>\n",
       "      <td>0.5</td>\n",
       "    </tr>\n",
       "    <tr>\n",
       "      <th>119</th>\n",
       "      <td>0.273537</td>\n",
       "      <td>1.0</td>\n",
       "      <td>0.5</td>\n",
       "      <td>0.066719</td>\n",
       "      <td>0.813167</td>\n",
       "      <td>frem</td>\n",
       "      <td>2.0</td>\n",
       "      <td>[0.0003081349108365139, 0.0003046355260654053,...</td>\n",
       "      <td>0.5</td>\n",
       "    </tr>\n",
       "    <tr>\n",
       "      <th>11</th>\n",
       "      <td>0.273537</td>\n",
       "      <td>1.0</td>\n",
       "      <td>0.5</td>\n",
       "      <td>0.066719</td>\n",
       "      <td>0.813167</td>\n",
       "      <td>frem</td>\n",
       "      <td>2.0</td>\n",
       "      <td>[0.0003081349108365139, 0.0003046355260654053,...</td>\n",
       "      <td>0.5</td>\n",
       "    </tr>\n",
       "    <tr>\n",
       "      <th>32</th>\n",
       "      <td>0.329545</td>\n",
       "      <td>1.0</td>\n",
       "      <td>0.5</td>\n",
       "      <td>0.082550</td>\n",
       "      <td>0.781144</td>\n",
       "      <td>frem</td>\n",
       "      <td>1.0</td>\n",
       "      <td>[6.619514836686344e-05, 0.006291492637004953, ...</td>\n",
       "      <td>0.5</td>\n",
       "    </tr>\n",
       "    <tr>\n",
       "      <th>68</th>\n",
       "      <td>0.706865</td>\n",
       "      <td>1.0</td>\n",
       "      <td>0.5</td>\n",
       "      <td>0.437157</td>\n",
       "      <td>0.763602</td>\n",
       "      <td>frem</td>\n",
       "      <td>1.0</td>\n",
       "      <td>[0.003411153581175375, 0.00104170498895463, 0....</td>\n",
       "      <td>0.5</td>\n",
       "    </tr>\n",
       "    <tr>\n",
       "      <th>140</th>\n",
       "      <td>0.874420</td>\n",
       "      <td>1.0</td>\n",
       "      <td>0.5</td>\n",
       "      <td>0.595740</td>\n",
       "      <td>0.756782</td>\n",
       "      <td>frem</td>\n",
       "      <td>2.0</td>\n",
       "      <td>[5.122617711137424e-05, 0.0008041875177681275,...</td>\n",
       "      <td>0.5</td>\n",
       "    </tr>\n",
       "    <tr>\n",
       "      <th>89</th>\n",
       "      <td>0.327659</td>\n",
       "      <td>1.0</td>\n",
       "      <td>0.5</td>\n",
       "      <td>0.047522</td>\n",
       "      <td>0.755680</td>\n",
       "      <td>frem</td>\n",
       "      <td>2.0</td>\n",
       "      <td>[0.0004434055124395133, 0.004839780819409126, ...</td>\n",
       "      <td>0.5</td>\n",
       "    </tr>\n",
       "    <tr>\n",
       "      <th>128</th>\n",
       "      <td>0.327659</td>\n",
       "      <td>1.0</td>\n",
       "      <td>0.5</td>\n",
       "      <td>0.047522</td>\n",
       "      <td>0.755680</td>\n",
       "      <td>frem</td>\n",
       "      <td>2.0</td>\n",
       "      <td>[0.0004434055124395283, 0.004839780819409037, ...</td>\n",
       "      <td>0.5</td>\n",
       "    </tr>\n",
       "    <tr>\n",
       "      <th>56</th>\n",
       "      <td>0.327659</td>\n",
       "      <td>1.0</td>\n",
       "      <td>0.5</td>\n",
       "      <td>0.047522</td>\n",
       "      <td>0.755680</td>\n",
       "      <td>frem</td>\n",
       "      <td>2.0</td>\n",
       "      <td>[0.00044340551243950995, 0.004839780819409055,...</td>\n",
       "      <td>0.5</td>\n",
       "    </tr>\n",
       "    <tr>\n",
       "      <th>50</th>\n",
       "      <td>0.327659</td>\n",
       "      <td>1.0</td>\n",
       "      <td>0.5</td>\n",
       "      <td>0.047522</td>\n",
       "      <td>0.755680</td>\n",
       "      <td>frem</td>\n",
       "      <td>2.0</td>\n",
       "      <td>[0.00044340551243950995, 0.004839780819409055,...</td>\n",
       "      <td>0.5</td>\n",
       "    </tr>\n",
       "    <tr>\n",
       "      <th>98</th>\n",
       "      <td>0.645015</td>\n",
       "      <td>1.0</td>\n",
       "      <td>0.5</td>\n",
       "      <td>0.346639</td>\n",
       "      <td>0.742023</td>\n",
       "      <td>frem</td>\n",
       "      <td>1.0</td>\n",
       "      <td>[3.349586474501866e-05, 0.0012309115576536987,...</td>\n",
       "      <td>0.5</td>\n",
       "    </tr>\n",
       "    <tr>\n",
       "      <th>83</th>\n",
       "      <td>0.645015</td>\n",
       "      <td>1.0</td>\n",
       "      <td>0.5</td>\n",
       "      <td>0.346639</td>\n",
       "      <td>0.742023</td>\n",
       "      <td>frem</td>\n",
       "      <td>1.0</td>\n",
       "      <td>[3.3495864745019335e-05, 0.0012309115576537117...</td>\n",
       "      <td>0.5</td>\n",
       "    </tr>\n",
       "    <tr>\n",
       "      <th>53</th>\n",
       "      <td>0.645015</td>\n",
       "      <td>1.0</td>\n",
       "      <td>0.5</td>\n",
       "      <td>0.346639</td>\n",
       "      <td>0.742023</td>\n",
       "      <td>frem</td>\n",
       "      <td>1.0</td>\n",
       "      <td>[3.349586474502048e-05, 0.0012309115576536983,...</td>\n",
       "      <td>0.5</td>\n",
       "    </tr>\n",
       "    <tr>\n",
       "      <th>65</th>\n",
       "      <td>0.333580</td>\n",
       "      <td>1.0</td>\n",
       "      <td>0.5</td>\n",
       "      <td>0.007540</td>\n",
       "      <td>0.721776</td>\n",
       "      <td>frem</td>\n",
       "      <td>1.0</td>\n",
       "      <td>[0.004964917771484952, 0.04628507694560493, 0....</td>\n",
       "      <td>0.5</td>\n",
       "    </tr>\n",
       "    <tr>\n",
       "      <th>143</th>\n",
       "      <td>0.333580</td>\n",
       "      <td>1.0</td>\n",
       "      <td>0.5</td>\n",
       "      <td>0.007540</td>\n",
       "      <td>0.721776</td>\n",
       "      <td>frem</td>\n",
       "      <td>1.0</td>\n",
       "      <td>[0.004964917771484952, 0.04628507694560493, 0....</td>\n",
       "      <td>0.5</td>\n",
       "    </tr>\n",
       "    <tr>\n",
       "      <th>17</th>\n",
       "      <td>0.461845</td>\n",
       "      <td>1.0</td>\n",
       "      <td>0.5</td>\n",
       "      <td>0.109676</td>\n",
       "      <td>0.703162</td>\n",
       "      <td>frem</td>\n",
       "      <td>1.0</td>\n",
       "      <td>[0.0023255849487405895, 0.031179427989275057, ...</td>\n",
       "      <td>0.5</td>\n",
       "    </tr>\n",
       "    <tr>\n",
       "      <th>14</th>\n",
       "      <td>0.631974</td>\n",
       "      <td>1.0</td>\n",
       "      <td>0.5</td>\n",
       "      <td>0.265979</td>\n",
       "      <td>0.693506</td>\n",
       "      <td>frem</td>\n",
       "      <td>3.0</td>\n",
       "      <td>[3.569403811824658e-05, 0.002082014335650397, ...</td>\n",
       "      <td>0.5</td>\n",
       "    </tr>\n",
       "  </tbody>\n",
       "</table>\n",
       "</div>"
      ],
      "text/plain": [
       "       KL_div    T  ftr  gs_KL_div   gs_prob method  part_size  \\\n",
       "26   0.315726  1.0  0.5   0.265973  0.951465   frem        3.0   \n",
       "20   0.315726  1.0  0.5   0.265973  0.951465   frem        3.0   \n",
       "2    0.501726  1.0  0.5   0.390938  0.895129   frem        3.0   \n",
       "164  0.501726  1.0  0.5   0.390938  0.895129   frem        3.0   \n",
       "146  0.214206  1.0  0.5   0.103191  0.894925   frem        2.0   \n",
       "38   0.214206  1.0  0.5   0.103191  0.894925   frem        2.0   \n",
       "62   0.214206  1.0  0.5   0.103191  0.894925   frem        2.0   \n",
       "29   0.342192  1.0  0.5   0.230124  0.893984   frem        2.0   \n",
       "77   0.936239  1.0  0.5   0.823390  0.893286   frem        3.0   \n",
       "149  0.199073  1.0  0.5   0.081778  0.889323   frem        2.0   \n",
       "59   0.509095  1.0  0.5   0.391666  0.889204   frem        2.0   \n",
       "131  0.862184  1.0  0.5   0.731401  0.877408   frem        3.0   \n",
       "71   0.862184  1.0  0.5   0.731401  0.877408   frem        3.0   \n",
       "8    0.862184  1.0  0.5   0.731401  0.877408   frem        3.0   \n",
       "113  0.430432  1.0  0.5   0.275622  0.856578   frem        2.0   \n",
       "119  0.273537  1.0  0.5   0.066719  0.813167   frem        2.0   \n",
       "11   0.273537  1.0  0.5   0.066719  0.813167   frem        2.0   \n",
       "32   0.329545  1.0  0.5   0.082550  0.781144   frem        1.0   \n",
       "68   0.706865  1.0  0.5   0.437157  0.763602   frem        1.0   \n",
       "140  0.874420  1.0  0.5   0.595740  0.756782   frem        2.0   \n",
       "89   0.327659  1.0  0.5   0.047522  0.755680   frem        2.0   \n",
       "128  0.327659  1.0  0.5   0.047522  0.755680   frem        2.0   \n",
       "56   0.327659  1.0  0.5   0.047522  0.755680   frem        2.0   \n",
       "50   0.327659  1.0  0.5   0.047522  0.755680   frem        2.0   \n",
       "98   0.645015  1.0  0.5   0.346639  0.742023   frem        1.0   \n",
       "83   0.645015  1.0  0.5   0.346639  0.742023   frem        1.0   \n",
       "53   0.645015  1.0  0.5   0.346639  0.742023   frem        1.0   \n",
       "65   0.333580  1.0  0.5   0.007540  0.721776   frem        1.0   \n",
       "143  0.333580  1.0  0.5   0.007540  0.721776   frem        1.0   \n",
       "17   0.461845  1.0  0.5   0.109676  0.703162   frem        1.0   \n",
       "14   0.631974  1.0  0.5   0.265979  0.693506   frem        3.0   \n",
       "\n",
       "                                                 probs    s  \n",
       "26   [0.00021328471998986238, 0.0014934765445783333...  0.5  \n",
       "20   [0.0002132847199898678, 0.0014934765445783536,...  0.5  \n",
       "2    [0.00011438471920481049, 0.0003542260043182645...  0.5  \n",
       "164  [0.00011438471920481079, 0.0003542260043182643...  0.5  \n",
       "146  [0.0003114314980055508, 0.0011498468254938178,...  0.5  \n",
       "38   [0.0003114314980055461, 0.0011498468254938117,...  0.5  \n",
       "62   [0.0003114314980055461, 0.0011498468254938117,...  0.5  \n",
       "29   [0.00033341424989312857, 0.018509560401513008,...  0.5  \n",
       "77   [3.8509626069684166e-05, 0.0005163002550861999...  0.5  \n",
       "149  [0.0004933660119077634, 0.000183414735128154, ...  0.5  \n",
       "59   [0.0002940577403318905, 0.005136477296973243, ...  0.5  \n",
       "131  [0.00013756403009356708, 0.0002733915773992491...  0.5  \n",
       "71   [0.0001375640300935552, 0.0002733915773992513,...  0.5  \n",
       "8    [0.00013756403009355166, 0.0002733915773992432...  0.5  \n",
       "113  [0.000416782198903101, 0.0018170032965692023, ...  0.5  \n",
       "119  [0.0003081349108365139, 0.0003046355260654053,...  0.5  \n",
       "11   [0.0003081349108365139, 0.0003046355260654053,...  0.5  \n",
       "32   [6.619514836686344e-05, 0.006291492637004953, ...  0.5  \n",
       "68   [0.003411153581175375, 0.00104170498895463, 0....  0.5  \n",
       "140  [5.122617711137424e-05, 0.0008041875177681275,...  0.5  \n",
       "89   [0.0004434055124395133, 0.004839780819409126, ...  0.5  \n",
       "128  [0.0004434055124395283, 0.004839780819409037, ...  0.5  \n",
       "56   [0.00044340551243950995, 0.004839780819409055,...  0.5  \n",
       "50   [0.00044340551243950995, 0.004839780819409055,...  0.5  \n",
       "98   [3.349586474501866e-05, 0.0012309115576536987,...  0.5  \n",
       "83   [3.3495864745019335e-05, 0.0012309115576537117...  0.5  \n",
       "53   [3.349586474502048e-05, 0.0012309115576536983,...  0.5  \n",
       "65   [0.004964917771484952, 0.04628507694560493, 0....  0.5  \n",
       "143  [0.004964917771484952, 0.04628507694560493, 0....  0.5  \n",
       "17   [0.0023255849487405895, 0.031179427989275057, ...  0.5  \n",
       "14   [3.569403811824658e-05, 0.002082014335650397, ...  0.5  "
      ]
     },
     "execution_count": 14,
     "metadata": {},
     "output_type": "execute_result"
    }
   ],
   "source": [
    "data.loc[data['method'] == 'frem'][data['gs_prob'] > f_gsprob].sort_values('gs_prob', ascending=False)"
   ]
  },
  {
   "cell_type": "markdown",
   "metadata": {},
   "source": [
    "### NO! There is not a clear relationship (monotone) between gs_prob and KL_div or gs_KL_div."
   ]
  },
  {
   "cell_type": "markdown",
   "metadata": {},
   "source": [
    "## Clearly, the \"best\" experimental outcome w.r.t. getting a ground-state is a highly asymmetric distrubtion. Let's take a look."
   ]
  },
  {
   "cell_type": "code",
   "execution_count": 29,
   "metadata": {},
   "outputs": [
    {
     "data": {
      "text/plain": [
       "<BarContainer object of 4 artists>"
      ]
     },
     "execution_count": 29,
     "metadata": {},
     "output_type": "execute_result"
    },
    {
     "data": {
      "image/png": "[encoded data removed]",
      "text/plain": [
       "<Figure size 432x288 with 1 Axes>"
      ]
     },
     "metadata": {},
     "output_type": "display_data"
    }
   ],
   "source": [
    "nonzero = np.nonzero(gs)[0]\n",
    "plt.bar([i for i in range(len(nonzero))], data.iloc[26].probs[nonzero])\n",
    "# NOTE, this is top solution"
   ]
  },
  {
   "cell_type": "code",
   "execution_count": 31,
   "metadata": {},
   "outputs": [
    {
     "data": {
      "text/plain": [
       "<BarContainer object of 4 artists>"
      ]
     },
     "execution_count": 31,
     "metadata": {},
     "output_type": "execute_result"
    },
    {
     "data": {
      "image/png": "[encoded data removed]",
      "text/plain": [
       "<Figure size 432x288 with 1 Axes>"
      ]
     },
     "metadata": {},
     "output_type": "display_data"
    }
   ],
   "source": [
    "# 2nd best solution\n",
    "plt.bar([i for i in range(len(nonzero))], data.iloc[20].probs[nonzero])"
   ]
  },
  {
   "cell_type": "code",
   "execution_count": 33,
   "metadata": {},
   "outputs": [
    {
     "data": {
      "text/plain": [
       "<BarContainer object of 4 artists>"
      ]
     },
     "execution_count": 33,
     "metadata": {},
     "output_type": "execute_result"
    },
    {
     "data": {
      "image/png": "[encoded data removed]",
      "text/plain": [
       "<Figure size 432x288 with 1 Axes>"
      ]
     },
     "metadata": {},
     "output_type": "display_data"
    }
   ],
   "source": [
    "# 3rd best solution\n",
    "plt.bar([i for i in range(len(nonzero))], data.iloc[2].probs[nonzero])"
   ]
  },
  {
   "cell_type": "code",
   "execution_count": 34,
   "metadata": {},
   "outputs": [
    {
     "data": {
      "text/plain": [
       "<BarContainer object of 4 artists>"
      ]
     },
     "execution_count": 34,
     "metadata": {},
     "output_type": "execute_result"
    },
    {
     "data": {
      "image/png": "[encoded data removed]",
      "text/plain": [
       "<Figure size 432x288 with 1 Axes>"
      ]
     },
     "metadata": {},
     "output_type": "display_data"
    }
   ],
   "source": [
    "# 4th best solution\n",
    "plt.bar([i for i in range(len(nonzero))], data.iloc[164].probs[nonzero])"
   ]
  },
  {
   "cell_type": "code",
   "execution_count": 35,
   "metadata": {},
   "outputs": [
    {
     "data": {
      "text/plain": [
       "<BarContainer object of 4 artists>"
      ]
     },
     "execution_count": 35,
     "metadata": {},
     "output_type": "execute_result"
    },
    {
     "data": {
      "image/png": "[encoded data removed]",
      "text/plain": [
       "<Figure size 432x288 with 1 Axes>"
      ]
     },
     "metadata": {},
     "output_type": "display_data"
    }
   ],
   "source": [
    "# random one that's better from above\n",
    "plt.bar([i for i in range(len(nonzero))], data.iloc[28].probs[nonzero])"
   ]
  },
  {
   "cell_type": "markdown",
   "metadata": {},
   "source": [
    "### Yes, the gs is highly asymmetric. Is it bias in the direction we would expect?"
   ]
  },
  {
   "cell_type": "code",
   "execution_count": 16,
   "metadata": {},
   "outputs": [
    {
     "data": {
      "text/plain": [
       "<BarContainer object of 4 artists>"
      ]
     },
     "execution_count": 16,
     "metadata": {},
     "output_type": "execute_result"
    },
    {
     "data": {
      "image/png": "[encoded data removed]",
      "text/plain": [
       "<Figure size 432x288 with 1 Axes>"
      ]
     },
     "metadata": {},
     "output_type": "display_data"
    }
   ],
   "source": [
    "plt.bar([i for i in range(len(nonzero))], data.loc[data['method'] == 'forward'].probs[0][nonzero])"
   ]
  },
  {
   "cell_type": "markdown",
   "metadata": {},
   "source": [
    "#### Evidently, Forward annealing has an asymmetry (why? Not sure in this case.) Though not shown, the states are:\n",
    "* 1) |1001> \n",
    "* 2) |0101> \n",
    "* 3) |1100> \n",
    "* 4) |1110>\n",
    "#### Hence, a \"reverse\" anneal as is done in FREM favors remnants of the |1110> state to start. However, which qubits are chosen is random, so a Hamming distance analysis (as I intially tried to do) is insufficient. One would need to understanding \"seeding\" effect of qubit chosen which is pretty involved."
   ]
  },
  {
   "cell_type": "markdown",
   "metadata": {},
   "source": [
    "# Conclusion"
   ]
  },
  {
   "cell_type": "markdown",
   "metadata": {},
   "source": [
    "* gs_probability is a better measure of experimental near-term quantum annealer performance\n",
    "* gs_probability and KL-div are not equivalent measures of performance\n",
    "* FREM performs much better than previously thought w.r.t. gs_probability \n",
    "* However, it has a strong bias toward ground-states encoded through reverse anneal\n",
    "* In other words, asymmetries in gs sampling from forward_annealing carry over to FREM\n",
    "* For getting GS, this method is more effective, but may be worse (as is implemented) at finding them all (though this is debateable as well)"
   ]
  },
  {
   "cell_type": "code",
   "execution_count": null,
   "metadata": {},
   "outputs": [],
   "source": []
  }
 ],
 "metadata": {
  "kernelspec": {
   "display_name": "Python 3",
   "language": "python",
   "name": "python3"
  },
  "language_info": {
   "codemirror_mode": {
    "name": "ipython",
    "version": 3
   },
   "file_extension": ".py",
   "mimetype": "text/x-python",
   "name": "python",
   "nbconvert_exporter": "python",
   "pygments_lexer": "ipython3",
   "version": "3.6.6"
  }
 },
 "nbformat": 4,
 "nbformat_minor": 2
}
