{
 "cells": [
  {
   "cell_type": "markdown",
   "metadata": {},
   "source": [
    "## Finding Missing Qubits and Couplers"
   ]
  },
  {
   "cell_type": "code",
   "execution_count": 1,
   "metadata": {},
   "outputs": [],
   "source": [
    "# this is part of the OCEAN stack, but this is equivalent to the \"solver\" of SAPI \n",
    "from dwave.system.samplers import DWaveSampler"
   ]
  },
  {
   "cell_type": "raw",
   "metadata": {},
   "source": [
    "This next line loads in the data for the chip, and saves the missing qubits/couplers. Futher, it prints the name of the chip to be sure the right one is being used. \n",
    "\n",
    "In truth, this \"sampler = DWaveSampler\" is more complicated than that. In particular, sampler is an instance of the DWaveSampler class. In general, this is how one connects with DWaves chips, and it takes as argument information about which chip/ token you want to connect with. In my case, I pass it no arguments, so it looks for what value I have saved as default in a config file.\n",
    "\n",
    "As an instance of this sampler class, it has attributes and methods. The attributes are the \"properties\" such as working qubits and couplers. "
   ]
  },
  {
   "cell_type": "code",
   "execution_count": 2,
   "metadata": {},
   "outputs": [
    {
     "name": "stdout",
     "output_type": "stream",
     "text": [
      "DW_2000Q_2_1\n"
     ]
    }
   ],
   "source": [
    "sampler = DWaveSampler()\n",
    "wqubits = sampler.properties['qubits']\n",
    "wcouplers = sampler.properties['couplers']\n",
    "print(sampler.properties['chip_id'])"
   ]
  },
  {
   "cell_type": "code",
   "execution_count": 3,
   "metadata": {},
   "outputs": [],
   "source": [
    "# create a list of all qubits and find the set difference between working and all\n",
    "allqubits = [q for q in range(2048)]\n",
    "brokenqubits = sorted(list(set(allqubits) - set(wqubits)))"
   ]
  },
  {
   "cell_type": "code",
   "execution_count": 4,
   "metadata": {},
   "outputs": [],
   "source": [
    "# create a list of all couplers and find the set difference between working and all\n",
    "allcouplers = []\n",
    "for q in range(2048):\n",
    "    if q % 8 < 4:\n",
    "        allcouplers.extend([[q, (q-q%8)+4], [q, (q-q%8)+5],\\\n",
    "                            [q, (q-q%8)+6], [q, (q-q%8)+7]])\n",
    "        if q + 128 < 2047:\n",
    "            allcouplers.append([q, q+128])\n",
    "    else:\n",
    "        if ((q-q%8+4 + 4) % 128) == 0:\n",
    "            continue\n",
    "        else:\n",
    "            allcouplers.append([q, q+8])\n",
    "brokencouplers = [coupler for coupler in allcouplers if coupler not in wcouplers]"
   ]
  },
  {
   "cell_type": "code",
   "execution_count": 10,
   "metadata": {},
   "outputs": [],
   "source": [
    "# save broken qubits to file\n",
    "fqubits = 'brokenqubits.txt'\n",
    "with open(fqubits, 'w') as f:\n",
    "    f.write(\"Chip id: Dwave 2000Q-2-1\\n\")\n",
    "    f.write(\"Number of missing qubits:{}\\n\".format(str(len(brokenqubits))))\n",
    "    for bq in brokenqubits:\n",
    "        f.write(str(bq) + '\\n')\n",
    "\n",
    "# save broken couplers to file\n",
    "fcouplers = 'brokencouplers.txt'\n",
    "with open (fcouplers, 'w') as f:\n",
    "    f.write(\"Chip id: Dwave 2000Q-2-1\\n\")\n",
    "    f.write(\"Number of missing couplers:{}\\n\".format(str(len(brokencouplers))))\n",
    "    for bc in brokencouplers:\n",
    "        f.write(str(bc[0]) + ', ' + str(bc[1]) + '\\n')"
   ]
  },
  {
   "cell_type": "code",
   "execution_count": null,
   "metadata": {},
   "outputs": [],
   "source": []
  }
 ],
 "metadata": {
  "kernelspec": {
   "display_name": "Python 3",
   "language": "python",
   "name": "python3"
  },
  "language_info": {
   "codemirror_mode": {
    "name": "ipython",
    "version": 3
   },
   "file_extension": ".py",
   "mimetype": "text/x-python",
   "name": "python",
   "nbconvert_exporter": "python",
   "pygments_lexer": "ipython3",
   "version": "3.6.6"
  }
 },
 "nbformat": 4,
 "nbformat_minor": 2
}
