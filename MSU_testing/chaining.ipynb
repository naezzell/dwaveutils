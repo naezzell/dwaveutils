{
 "cells": [
  {
   "cell_type": "code",
   "execution_count": 1,
   "metadata": {},
   "outputs": [],
   "source": [
    "import sys\n",
    "sys.path.append(\"../dwaveutils/dwavetools\")\n",
    "sys.path.append(\"../dwaveutils/probrep\")\n",
    "from dictrep import DictRep\n",
    "from dwavetools import dense_connect_2000Q\n",
    "from dwave.system.samplers import DWaveSampler\n",
    "import networkx as nx\n",
    "import dwave_networkx as dnx\n",
    "from collections import defaultdict"
   ]
  },
  {
   "cell_type": "markdown",
   "metadata": {},
   "source": [
    "### First, get the chip data"
   ]
  },
  {
   "cell_type": "code",
   "execution_count": 2,
   "metadata": {},
   "outputs": [],
   "source": [
    "sampler = DWaveSampler()\n",
    "wqubits = sampler.properties['qubits']\n",
    "wcouplers = sampler.properties['couplers']\n",
    "chipdata = {'wqubits': wqubits, 'wcouplers': wcouplers}"
   ]
  },
  {
   "cell_type": "markdown",
   "metadata": {},
   "source": [
    "### Create large logical qubits from dense, rectangular chains and connect them\n",
    "The way this works is as follows: the dense_connect_2000Q function creates a dense chain connection from some starting unit cell to a final unit cell in a rectangular box with R rows and C columns of unit cells. In particular, it starts the chain with qubit qi, then moves from left to right (up to down) by C (by R) unit cells while chaining nearest neighbor unit cells within the R X C rectangle."
   ]
  },
  {
   "cell_type": "code",
   "execution_count": 6,
   "metadata": {},
   "outputs": [
    {
     "name": "stdout",
     "output_type": "stream",
     "text": [
      "Going to try and connect unit cell 0 with unit cell 151\n",
      "Successfully created a dense chain with 639 qubits.\n"
     ]
    }
   ],
   "source": [
    "# create the first logical qubit Hamiltonian by chaining 8 x 10 unit cells in upper-left corner\n",
    "logq1 = dense_connect_2000Q(chipdata, qi = 0, R = 10, C = 8, hval =  'h', Jval = 'J')"
   ]
  },
  {
   "cell_type": "code",
   "execution_count": 7,
   "metadata": {},
   "outputs": [
    {
     "name": "stdout",
     "output_type": "stream",
     "text": [
      "Going to try and connect unit cell 8 with unit cell 159\n",
      "Successfully created a dense chain with 635 qubits.\n"
     ]
    }
   ],
   "source": [
    "# create the second logical qubit by chaining 8 x 10 unit cells in top right corner\n",
    "logq2 = dense_connect_2000Q(chipdata, qi = 64, R = 10, C = 8, hval = 'h', Jval = 'J')"
   ]
  },
  {
   "cell_type": "code",
   "execution_count": 8,
   "metadata": {},
   "outputs": [
    {
     "name": "stdout",
     "output_type": "stream",
     "text": [
      "Going to try and connect unit cell 160 with unit cell 239\n",
      "Successfully created a dense chain with 637 qubits.\n"
     ]
    }
   ],
   "source": [
    "# create the third logical qubit by chaining 5 x 16 unit cells at bottom\n",
    "logq3 = dense_connect_2000Q(chipdata, qi = 1280, R = 5, C = 16, hval = 'h', Jval = 'J')"
   ]
  },
  {
   "cell_type": "code",
   "execution_count": 10,
   "metadata": {},
   "outputs": [],
   "source": [
    "# Now, we connect the logical rectangular qubits with couplings between them\n",
    "inter_uc_couplings = {(60, 68): 'J2', (1288, 1160): 'J1', (1392, 1264): 'J1'}"
   ]
  },
  {
   "cell_type": "code",
   "execution_count": 18,
   "metadata": {},
   "outputs": [
    {
     "ename": "KeyError",
     "evalue": "(0, 0)",
     "output_type": "error",
     "traceback": [
      "\u001b[0;31m---------------------------------------------------------------------------\u001b[0m",
      "\u001b[0;31mKeyError\u001b[0m                                  Traceback (most recent call last)",
      "\u001b[0;32m<ipython-input-18-69ed5c1e5c63>\u001b[0m in \u001b[0;36m<module>\u001b[0;34m()\u001b[0m\n\u001b[1;32m      4\u001b[0m \u001b[0;32mfor\u001b[0m \u001b[0md\u001b[0m \u001b[0;32min\u001b[0m \u001b[0mdicts\u001b[0m\u001b[0;34m:\u001b[0m\u001b[0;34m\u001b[0m\u001b[0m\n\u001b[1;32m      5\u001b[0m     \u001b[0;32mfor\u001b[0m \u001b[0mk\u001b[0m\u001b[0;34m,\u001b[0m \u001b[0mv\u001b[0m \u001b[0;32min\u001b[0m \u001b[0md\u001b[0m\u001b[0;34m.\u001b[0m\u001b[0mitems\u001b[0m\u001b[0;34m(\u001b[0m\u001b[0;34m)\u001b[0m\u001b[0;34m:\u001b[0m\u001b[0;34m\u001b[0m\u001b[0m\n\u001b[0;32m----> 6\u001b[0;31m         \u001b[0msuper_dict\u001b[0m\u001b[0;34m[\u001b[0m\u001b[0mk\u001b[0m\u001b[0;34m]\u001b[0m\u001b[0;34m.\u001b[0m\u001b[0madd\u001b[0m\u001b[0;34m(\u001b[0m\u001b[0mv\u001b[0m\u001b[0;34m)\u001b[0m\u001b[0;34m\u001b[0m\u001b[0m\n\u001b[0m",
      "\u001b[0;31mKeyError\u001b[0m: (0, 0)"
     ]
    }
   ],
   "source": [
    "# combine them all together\n",
    "dicts = [logq1, logq2, logq3, inter_uc_couplings]\n",
    "super_dict = {}\n",
    "for d in dicts:\n",
    "    for k, v in d.items():\n",
    "        super_dict[k].add(v)"
   ]
  },
  {
   "cell_type": "code",
   "execution_count": 19,
   "metadata": {},
   "outputs": [
    {
     "data": {
      "text/plain": [
       "{}"
      ]
     },
     "execution_count": 19,
     "metadata": {},
     "output_type": "execute_result"
    }
   ],
   "source": [
    "super_dict"
   ]
  },
  {
   "cell_type": "code",
   "execution_count": 15,
   "metadata": {},
   "outputs": [
    {
     "name": "stdout",
     "output_type": "stream",
     "text": [
      "DW_2000Q_2\n"
     ]
    }
   ],
   "source": [
    "# get working qubits and couplers from the solver\n",
    "sampler = DWaveSampler()\n",
    "wqubits = sampler.properties['qubits']\n",
    "wcouplers = sampler.properties['couplers']\n",
    "print(sampler.properties['chip_id'])"
   ]
  },
  {
   "cell_type": "code",
   "execution_count": 12,
   "metadata": {},
   "outputs": [
    {
     "name": "stdout",
     "output_type": "stream",
     "text": [
      "[577, 691, 1012, 1105, 1276, 1730, 1776, 1858]\n"
     ]
    }
   ],
   "source": [
    "# create a list of all qubits and find the set difference between working and all\n",
    "allqubits = [q for q in range(2048)]\n",
    "brokenqubits = sorted(list(set(allqubits) - set(wqubits)))\n",
    "print(brokenqubits)"
   ]
  },
  {
   "cell_type": "code",
   "execution_count": 37,
   "metadata": {},
   "outputs": [
    {
     "name": "stdout",
     "output_type": "stream",
     "text": [
      "[[449, 577], [563, 691], [577, 580], [577, 581], [577, 582], [577, 583], [577, 705], [691, 692], [691, 693], [691, 694], [691, 695], [691, 819], [715, 718], [977, 1105], [1004, 1012], [1008, 1012], [1009, 1012], [1010, 1012], [1011, 1012], [1012, 1020], [1105, 1108], [1105, 1109], [1105, 1110], [1105, 1111], [1105, 1233], [1235, 1238], [1235, 1239], [1268, 1276], [1272, 1276], [1273, 1276], [1274, 1276], [1275, 1276], [1602, 1730], [1648, 1776], [1730, 1732], [1730, 1733], [1730, 1734], [1730, 1735], [1730, 1858], [1776, 1780], [1776, 1781], [1776, 1782], [1776, 1783], [1776, 1904], [1858, 1860], [1858, 1861], [1858, 1862], [1858, 1863], [1858, 1986]]\n"
     ]
    }
   ],
   "source": [
    "# create a list of all couplers and find the set difference between working and all\n",
    "allcouplers = []\n",
    "for q in range(2048):\n",
    "    if q % 8 < 4:\n",
    "        allcouplers.extend([[q, (q-q%8)+4], [q, (q-q%8)+5], [q, (q-q%8)+6], [q, (q-q%8)+7]])\n",
    "        if q + 128 < 2047:\n",
    "            allcouplers.append([q, q+128])\n",
    "    else:\n",
    "        if ((q-q%8+4 + 4) % 128) == 0:\n",
    "            continue\n",
    "        else:\n",
    "            allcouplers.append([q, q+8])\n",
    "brokencouplers = [coupler for coupler in allcouplers if coupler not in wcouplers]\n",
    "print(brokencouplers)"
   ]
  },
  {
   "cell_type": "code",
   "execution_count": null,
   "metadata": {},
   "outputs": [],
   "source": []
  }
 ],
 "metadata": {
  "kernelspec": {
   "display_name": "Python 3",
   "language": "python",
   "name": "python3"
  },
  "language_info": {
   "codemirror_mode": {
    "name": "ipython",
    "version": 3
   },
   "file_extension": ".py",
   "mimetype": "text/x-python",
   "name": "python",
   "nbconvert_exporter": "python",
   "pygments_lexer": "ipython3",
   "version": "3.6.6"
  }
 },
 "nbformat": 4,
 "nbformat_minor": 2
}
