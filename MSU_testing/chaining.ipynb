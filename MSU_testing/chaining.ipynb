{
 "cells": [
  {
   "cell_type": "code",
   "execution_count": 4,
   "metadata": {},
   "outputs": [],
   "source": [
    "import sys\n",
    "sys.path.append(\"../dwaveutils/dwavetools\")\n",
    "sys.path.append(\"../dwaveutils/probrep\")\n",
    "from dictrep import DictRep\n",
    "from dwavetools import dense_connect_2000Q\n",
    "from dwave.system.samplers import DWaveSampler\n",
    "import networkx as nx\n",
    "import dwave_networkx as dnx\n",
    "from collections import defaultdict"
   ]
  },
  {
   "cell_type": "markdown",
   "metadata": {},
   "source": [
    "### First, get the chip data"
   ]
  },
  {
   "cell_type": "code",
   "execution_count": 5,
   "metadata": {},
   "outputs": [],
   "source": [
    "sampler = DWaveSampler()\n",
    "wqubits = sampler.properties['qubits']\n",
    "wcouplers = sampler.properties['couplers']\n",
    "chipdata = {'wqubits': wqubits, 'wcouplers': wcouplers}"
   ]
  },
  {
   "cell_type": "markdown",
   "metadata": {},
   "source": [
    "### Create large logical qubits from dense, rectangular chains and connect them\n",
    "The way this works is as follows: the dense_connect_2000Q function creates a dense chain connection from some starting unit cell to a final unit cell in a rectangular box with R rows and C columns of unit cells. In particular, it starts the chain with qubit qi, then moves from left to right (up to down) by C (by R) unit cells while chaining nearest neighbor unit cells within the R X C rectangle."
   ]
  },
  {
   "cell_type": "code",
   "execution_count": 9,
   "metadata": {},
   "outputs": [
    {
     "name": "stdout",
     "output_type": "stream",
     "text": [
      "Going to try and connect unit cell 0 with unit cell 151\n",
      "Successfully created a dense chain with 639 qubits.\n"
     ]
    }
   ],
   "source": [
    "# create the first logical qubit Hamiltonian by chaining 8 x 10 unit cells in upper-left corner\n",
    "logq1 = dense_connect_2000Q(chipdata, qi = 0, R = 10, C = 8, hval =  'h', Jval = 'J')"
   ]
  },
  {
   "cell_type": "code",
   "execution_count": 10,
   "metadata": {},
   "outputs": [
    {
     "name": "stdout",
     "output_type": "stream",
     "text": [
      "Going to try and connect unit cell 8 with unit cell 159\n",
      "Successfully created a dense chain with 635 qubits.\n"
     ]
    }
   ],
   "source": [
    "# create the second logical qubit by chaining 8 x 10 unit cells in top right corner\n",
    "logq2 = dense_connect_2000Q(chipdata, qi = 64, R = 10, C = 8, hval = 'h', Jval = 'J')"
   ]
  },
  {
   "cell_type": "code",
   "execution_count": 11,
   "metadata": {},
   "outputs": [
    {
     "name": "stdout",
     "output_type": "stream",
     "text": [
      "Going to try and connect unit cell 160 with unit cell 239\n",
      "Successfully created a dense chain with 637 qubits.\n"
     ]
    }
   ],
   "source": [
    "# create the third logical qubit by chaining 5 x 16 unit cells at bottom\n",
    "logq3 = dense_connect_2000Q(chipdata, qi = 1280, R = 5, C = 16, hval = 'h', Jval = 'J')"
   ]
  },
  {
   "cell_type": "code",
   "execution_count": 12,
   "metadata": {},
   "outputs": [],
   "source": [
    "# Now, we connect the logical rectangular qubits with couplings between them\n",
    "inter_uc_couplings = {(60, 68): 'J2', (1288, 1160): 'J1', (1392, 1264): 'J1'}"
   ]
  },
  {
   "cell_type": "code",
   "execution_count": 13,
   "metadata": {},
   "outputs": [
    {
     "ename": "KeyError",
     "evalue": "(0, 0)",
     "output_type": "error",
     "traceback": [
      "\u001b[0;31m---------------------------------------------------------------------------\u001b[0m",
      "\u001b[0;31mKeyError\u001b[0m                                  Traceback (most recent call last)",
      "\u001b[0;32m<ipython-input-13-69ed5c1e5c63>\u001b[0m in \u001b[0;36m<module>\u001b[0;34m()\u001b[0m\n\u001b[1;32m      4\u001b[0m \u001b[0;32mfor\u001b[0m \u001b[0md\u001b[0m \u001b[0;32min\u001b[0m \u001b[0mdicts\u001b[0m\u001b[0;34m:\u001b[0m\u001b[0;34m\u001b[0m\u001b[0m\n\u001b[1;32m      5\u001b[0m     \u001b[0;32mfor\u001b[0m \u001b[0mk\u001b[0m\u001b[0;34m,\u001b[0m \u001b[0mv\u001b[0m \u001b[0;32min\u001b[0m \u001b[0md\u001b[0m\u001b[0;34m.\u001b[0m\u001b[0mitems\u001b[0m\u001b[0;34m(\u001b[0m\u001b[0;34m)\u001b[0m\u001b[0;34m:\u001b[0m\u001b[0;34m\u001b[0m\u001b[0m\n\u001b[0;32m----> 6\u001b[0;31m         \u001b[0msuper_dict\u001b[0m\u001b[0;34m[\u001b[0m\u001b[0mk\u001b[0m\u001b[0;34m]\u001b[0m\u001b[0;34m.\u001b[0m\u001b[0madd\u001b[0m\u001b[0;34m(\u001b[0m\u001b[0mv\u001b[0m\u001b[0;34m)\u001b[0m\u001b[0;34m\u001b[0m\u001b[0m\n\u001b[0m",
      "\u001b[0;31mKeyError\u001b[0m: (0, 0)"
     ]
    }
   ],
   "source": [
    "# combine them all together\n",
    "dicts = [logq1, logq2, logq3, inter_uc_couplings]\n",
    "super_dict = {}\n",
    "for d in dicts:\n",
    "    for k, v in d.items():\n",
    "        super_dict[k].add(v)"
   ]
  },
  {
   "cell_type": "code",
   "execution_count": null,
   "metadata": {},
   "outputs": [],
   "source": [
    "super_dict"
   ]
  },
  {
   "cell_type": "code",
   "execution_count": 6,
   "metadata": {},
   "outputs": [
    {
     "name": "stdout",
     "output_type": "stream",
     "text": [
      "DW_2000Q_3\n"
     ]
    }
   ],
   "source": [
    "# get working qubits and couplers from the solver\n",
    "sampler = DWaveSampler()\n",
    "wqubits = sampler.properties['qubits']\n",
    "wcouplers = sampler.properties['couplers']\n",
    "print(sampler.properties['chip_id'])"
   ]
  },
  {
   "cell_type": "code",
   "execution_count": 9,
   "metadata": {},
   "outputs": [
    {
     "name": "stdout",
     "output_type": "stream",
     "text": [
      "[1, 9, 413, 421, 478, 486, 529, 536, 814, 822, 1099, 1221, 1229, 1429, 1437, 1476, 1484, 1510, 1936, 2032]\n"
     ]
    }
   ],
   "source": [
    "# create a list of all qubits and find the set difference between working and all\n",
    "allqubits = [q for q in range(2048)]\n",
    "brokenqubits = sorted(list(set(allqubits) - set(wqubits)))\n",
    "print(brokenqubits)"
   ]
  },
  {
   "cell_type": "code",
   "execution_count": 12,
   "metadata": {},
   "outputs": [
    {
     "name": "stdout",
     "output_type": "stream",
     "text": [
      "[[1, 4], [1, 5], [1, 6], [1, 7], [1, 129], [9, 12], [9, 13], [9, 14], [9, 15], [9, 137], [90, 93], [401, 529], [405, 413], [408, 413], [408, 536], [409, 413], [410, 413], [411, 413], [413, 421], [416, 421], [417, 421], [418, 421], [418, 422], [419, 421], [421, 429], [470, 478], [472, 478], [473, 478], [474, 478], [475, 478], [478, 486], [480, 486], [481, 486], [482, 486], [483, 486], [486, 494], [529, 532], [529, 533], [529, 534], [529, 535], [529, 657], [536, 540], [536, 541], [536, 542], [536, 543], [536, 664], [806, 814], [808, 814], [809, 814], [810, 814], [811, 814], [814, 822], [816, 822], [817, 822], [818, 822], [819, 822], [822, 830], [971, 1099], [1099, 1100], [1099, 1101], [1099, 1102], [1099, 1103], [1099, 1227], [1173, 1181], [1213, 1221], [1216, 1221], [1217, 1221], [1218, 1221], [1219, 1221], [1221, 1229], [1224, 1229], [1225, 1229], [1226, 1229], [1227, 1229], [1229, 1237], [1421, 1429], [1424, 1429], [1425, 1429], [1426, 1429], [1427, 1429], [1429, 1437], [1432, 1437], [1433, 1437], [1434, 1437], [1435, 1437], [1437, 1445], [1468, 1476], [1472, 1476], [1473, 1476], [1474, 1476], [1475, 1476], [1476, 1484], [1480, 1484], [1481, 1484], [1482, 1484], [1483, 1484], [1484, 1492], [1502, 1510], [1504, 1510], [1505, 1510], [1506, 1510], [1507, 1510], [1510, 1518], [1808, 1936], [1904, 2032], [1936, 1940], [1936, 1941], [1936, 1942], [1936, 1943], [2032, 2036], [2032, 2037], [2032, 2038], [2032, 2039]]\n"
     ]
    }
   ],
   "source": [
    "# create a list of all couplers and find the set difference between working and all\n",
    "allcouplers = []\n",
    "for q in range(2048):\n",
    "    if q % 8 < 4:\n",
    "        allcouplers.extend([[q, (q-q%8)+4], [q, (q-q%8)+5], [q, (q-q%8)+6], [q, (q-q%8)+7]])\n",
    "        if q + 128 < 2047:\n",
    "            allcouplers.append([q, q+128])\n",
    "    else:\n",
    "        if ((q-q%8+4 + 4) % 128) == 0:\n",
    "            continue\n",
    "        else:\n",
    "            allcouplers.append([q, q+8])\n",
    "brokencouplers = [coupler for coupler in allcouplers if coupler not in wcouplers]\n",
    "with open ('brokencouplers.txt', 'w') as f:\n",
    "    for bc in brokencouplers:\n",
    "        f.write(str(bc[0]) + ', ' + str(bc[1]) + '\\n')\n",
    "print(brokencouplers)"
   ]
  },
  {
   "cell_type": "code",
   "execution_count": 15,
   "metadata": {},
   "outputs": [],
   "source": [
    "q1s = [449,563,577,577,577,577,577,691,691,691,691,691,715,977,1004,1008,1009,1010,1011,1012,1105,1105,1105,1105,1105,1235,1235,1268,1272,1273,1274,1275,1602,1648,1730,1730,1730,1730,1730,1776,1776,1776,1776,1776,1858,1858,1858,1858,1858]\n",
    "q2s = [577,691,705,580,581,582,583,819,692,693,694,695,718,1105,1012,1012,1012,1012,1012,1020,1233,1108,1109,1110,1111,1238,1239,1276,1276,1276,1276,1276,1730,1776,1858,1732,1733,1734,1735,1904,1780,1781,1782,1783,1986,1860,1861,1862,1863]\n",
    "Bhavikacouplers = [[q1s[i], q2s[i]] for i in range(len(q1s))]"
   ]
  },
  {
   "cell_type": "code",
   "execution_count": 20,
   "metadata": {},
   "outputs": [
    {
     "name": "stdout",
     "output_type": "stream",
     "text": [
      "Length of (Nic computed broken) couplers is: 49\n",
      "Length of Bhavika computed compuers is: 49\n"
     ]
    }
   ],
   "source": [
    "print(\"Length of (Nic computed broken) couplers is: {}\".format(len(brokencouplers)))\n",
    "print(\"Length of Bhavika computed compuers is: {}\".format(len(Bhavikacouplers)))"
   ]
  },
  {
   "cell_type": "code",
   "execution_count": 28,
   "metadata": {},
   "outputs": [
    {
     "name": "stdout",
     "output_type": "stream",
     "text": [
      "[]\n",
      "[]\n"
     ]
    }
   ],
   "source": [
    "diff1 = [coupler for coupler in Bhavikacouplers if coupler not in brokencouplers]\n",
    "print(diff1)\n",
    "diff2 = [coupler for coupler in brokencouplers if coupler not in Bhavikacouplers]\n",
    "print(diff2)"
   ]
  },
  {
   "cell_type": "code",
   "execution_count": null,
   "metadata": {},
   "outputs": [],
   "source": []
  }
 ],
 "metadata": {
  "kernelspec": {
   "display_name": "Python 3",
   "language": "python",
   "name": "python3"
  },
  "language_info": {
   "codemirror_mode": {
    "name": "ipython",
    "version": 3
   },
   "file_extension": ".py",
   "mimetype": "text/x-python",
   "name": "python",
   "nbconvert_exporter": "python",
   "pygments_lexer": "ipython3",
   "version": "3.6.6"
  }
 },
 "nbformat": 4,
 "nbformat_minor": 2
}
