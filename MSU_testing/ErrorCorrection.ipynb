{
 "cells": [
  {
   "cell_type": "markdown",
   "metadata": {},
   "source": [
    "## D-Wave Error Correction: Forward and Reverse Annealing Together!?!?"
   ]
  },
  {
   "cell_type": "code",
   "execution_count": 73,
   "metadata": {},
   "outputs": [],
   "source": [
    "# The Stanard Hodgepodge of Imports for Python\n",
    "import qutip as qt\n",
    "import qutip.states as qts\n",
    "import qutip.operators as qto\n",
    "import numpy as np\n",
    "import matplotlib.pyplot as plt\n",
    "%matplotlib inline\n",
    "import pandas as pd\n",
    "import sys\n",
    "import seaborn as sns\n",
    "from functools import reduce\n",
    "\n",
    "sys.path.append(\"../dwaveutils/dwavetools\")\n",
    "sys.path.append(\"../dwaveutils/probrep\")\n",
    "from dictrep import DictRep\n",
    "from dwavetools import (nqubit_1pauli, nqubit_2pauli, loadAandB, dict_to_qutip,\n",
    "                       make_numeric_schedule, get_numeric_H, time_interpolation)"
   ]
  },
  {
   "cell_type": "markdown",
   "metadata": {},
   "source": [
    "### We will illustrate the process using a 3 qubit triangular problem."
   ]
  },
  {
   "cell_type": "code",
   "execution_count": 6,
   "metadata": {},
   "outputs": [
    {
     "data": {
      "image/png": "[encoded data removed]",
      "text/plain": [
       "<Figure size 432x288 with 1 Axes>"
      ]
     },
     "metadata": {},
     "output_type": "display_data"
    }
   ],
   "source": [
    "# First, let's create a sample 3 qubit Hamiltonian no h bias and all Ferromagnetic coupling\n",
    "H = {(0, 0): 0, (1, 1): 0, (2, 2): 0, (0, 1): 1, (1, 2): 1, (0, 2): 1}\n",
    "systot = DictRep(H = H, qpu = 'dwave', vartype = 'ising', encoding = 'logical')\n",
    "graph = systot.visualize_graph()"
   ]
  },
  {
   "cell_type": "markdown",
   "metadata": {},
   "source": [
    "While this is the Logical Hamiltonian we would LIKE to solve, we are interested in breaking it up into subsystems we'll call A and B so that we can forward/ reverse anneal them in tandem. "
   ]
  },
  {
   "cell_type": "code",
   "execution_count": 3,
   "metadata": {},
   "outputs": [],
   "source": [
    "# This is H, minus the coupling that connects qubit 1 to qubit 2\n",
    "HA = {(0, 0): 0, (1, 1): 0, (2, 2): 0, (0, 1): 1, (0, 2): 1, (1, 2): 0}\n",
    "sysA = DictRep(HA, 'dwave', 'ising', 'logical')\n",
    "# this only includes the coupling between qubits 1 and 2\n",
    "HB = {(0, 0): 0, (1, 1): 0, (2, 2): 0, (0, 1): 0, (0, 2): 0, (1, 2): 1}\n",
    "sysB = DictRep(HB, 'dwave', 'ising', 'logical')"
   ]
  },
  {
   "cell_type": "markdown",
   "metadata": {},
   "source": [
    "Now, we will create three anneal schedules. The first will be used to perform a forward anneal on the total system. The other two will be to perform a forward/ reverse anneal on system A/B. "
   ]
  },
  {
   "cell_type": "code",
   "execution_count": 19,
   "metadata": {},
   "outputs": [],
   "source": [
    "T = .1\n",
    "# total system anneal schedule\n",
    "systot_schedule = make_numeric_schedule(.1, **{'direction': 'forward', 'ta': T})\n",
    "systot_times, systot_svals = systot_schedule[0], systot_schedule[1]\n",
    "# system A forward anneal (this is redundant but used to be pedantically clear)\n",
    "sysA_schedule = make_numeric_schedule(.1, **{'direction': 'forward', 'ta': T})\n",
    "sysA_times, sysA_svals = sysA_schedule[0], sysA_schedule[1]\n",
    "# system B reverse anneal schedule\n",
    "sysB_schedule = make_numeric_schedule(.1, **{'direction': 'reverse', 'ta': T/2, 'sa': 0.5, 'tq': T/2})\n",
    "sysB_times, sysB_svals = sysB_schedule[0], sysB_schedule[1]"
   ]
  },
  {
   "cell_type": "markdown",
   "metadata": {},
   "source": [
    "As the last pre-processing step, we will create the three separate numerical and list-based Hamiltonians to actually run the QuTip simulations on each three of the systems."
   ]
  },
  {
   "cell_type": "code",
   "execution_count": 20,
   "metadata": {},
   "outputs": [],
   "source": [
    "processor_data = loadAandB()\n",
    "# Crearing the Hamiltonian for the ENTIRE system\n",
    "systot_ABfuncs = time_interpolation(systot_schedule, processor_data)\n",
    "systot_numericH = get_numeric_H(systot)\n",
    "systot_A = systot_ABfuncs['A(t)']\n",
    "systot_B = systot_ABfuncs['B(t)']\n",
    "systot_HX = systot_numericH['HX']\n",
    "systot_HZ = systot_numericH['HZ']\n",
    "# \"Analytic\" or function H(t)\n",
    "systot_H = lambda t : systot_A(t)*systot_HX + systot_B(t)*systot_HZ\n",
    "# Define list_H for QuTiP\n",
    "systot_listH = [[systot_HX, systot_A], [systot_HZ, systot_B]]"
   ]
  },
  {
   "cell_type": "code",
   "execution_count": 37,
   "metadata": {},
   "outputs": [],
   "source": [
    "# Create the Hamiltonian for system A\n",
    "sysA_ABfuncs = time_interpolation(sysA_schedule, processor_data)\n",
    "sysA_numericH = get_numeric_H(sysA)\n",
    "sysA_A = sysA_ABfuncs['A(t)']\n",
    "sysA_B = sysA_ABfuncs['B(t)']\n",
    "sysA_HX = sysA_numericH['HX']\n",
    "sysA_HZ = sysA_numericH['HZ']\n",
    "# \"Analytic\" or function H(t)\n",
    "sysA_H = lambda t : sysA_A(t)*sysA_HX + sysA_B(t)*sysA_HZ\n",
    "# Define list_H for QuTiP\n",
    "sysA_listH = [[sysA_HX, sysA_A], [sysA_HZ, sysA_B]]"
   ]
  },
  {
   "cell_type": "code",
   "execution_count": 31,
   "metadata": {},
   "outputs": [],
   "source": [
    "# Create the Hamiltonian for system B\n",
    "sysB_ABfuncs = time_interpolation(sysB_schedule, processor_data)\n",
    "sysB_numericH = get_numeric_H(sysB)\n",
    "sysB_A = sysB_ABfuncs['A(t)']\n",
    "sysB_B = sysB_ABfuncs['B(t)']\n",
    "sysB_HX = sysB_numericH['HX']\n",
    "sysB_HZ = sysB_numericH['HZ']\n",
    "# \"Analytic\" or function H(t)\n",
    "sysB_H = lambda t : sysB_A(t)*sysB_HX + sysB_B(t)*sysB_HZ\n",
    "# Define list_H for QuTiP\n",
    "sysB_listH = [[sysB_HX, sysB_A], [sysB_HZ, sysB_B]]"
   ]
  },
  {
   "cell_type": "code",
   "execution_count": 52,
   "metadata": {},
   "outputs": [
    {
     "data": {
      "text/latex": [
       "Quantum object: dims = [[2, 2, 2], [2, 2, 2]], shape = (8, 8), type = oper, isherm = True\\begin{equation*}\\left(\\begin{array}{*{11}c}9.737 & 1.346 & 1.346 & 0.0 & 1.346 & 0.0 & 0.0 & 0.0\\\\1.346 & -3.247 & 0.0 & 1.346 & 0.0 & 1.346 & 0.0 & 0.0\\\\1.346 & 0.0 & -3.247 & 1.346 & 0.0 & 0.0 & 1.346 & 0.0\\\\0.0 & 1.346 & 1.346 & -3.244 & 0.0 & 0.0 & 0.0 & 1.346\\\\1.346 & 0.0 & 0.0 & 0.0 & -3.244 & 1.346 & 1.346 & 0.0\\\\0.0 & 1.346 & 0.0 & 0.0 & 1.346 & -3.247 & 0.0 & 1.346\\\\0.0 & 0.0 & 1.346 & 0.0 & 1.346 & 0.0 & -3.247 & 1.346\\\\0.0 & 0.0 & 0.0 & 1.346 & 0.0 & 1.346 & 1.346 & 9.737\\\\\\end{array}\\right)\\end{equation*}"
      ],
      "text/plain": [
       "Quantum object: dims = [[2, 2, 2], [2, 2, 2]], shape = (8, 8), type = oper, isherm = True\n",
       "Qobj data =\n",
       "[[ 9.73732105  1.34575661  1.34575661  0.          1.34575661  0.\n",
       "   0.          0.        ]\n",
       " [ 1.34575661 -3.24651505  0.          1.34575661  0.          1.34575661\n",
       "   0.          0.        ]\n",
       " [ 1.34575661  0.         -3.24651505  1.34575661  0.          0.\n",
       "   1.34575661  0.        ]\n",
       " [ 0.          1.34575661  1.34575661 -3.24429095  0.          0.\n",
       "   0.          1.34575661]\n",
       " [ 1.34575661  0.          0.          0.         -3.24429095  1.34575661\n",
       "   1.34575661  0.        ]\n",
       " [ 0.          1.34575661  0.          0.          1.34575661 -3.24651505\n",
       "   0.          1.34575661]\n",
       " [ 0.          0.          1.34575661  0.          1.34575661  0.\n",
       "  -3.24651505  1.34575661]\n",
       " [ 0.          0.          0.          1.34575661  0.          1.34575661\n",
       "   1.34575661  9.73732105]]"
      ]
     },
     "execution_count": 52,
     "metadata": {},
     "output_type": "execute_result"
    }
   ],
   "source": [
    "# Combine system A and system B Hamitlonian's into a single Hamiltonian and compare to sysT and \n",
    "# some time in the middle of the anneal and at the end\n",
    "sysAB_listH = [[sysA_HX, sysA_A], [sysA_HZ, sysA_B], [sysB_HX, sysB_A], [sysB_HZ, sysB_B]]\n",
    "sysAB_H = lambda t: sysA_H(t) + sysB_H(t)\n",
    "sysAB_H(T/2)"
   ]
  },
  {
   "cell_type": "code",
   "execution_count": 51,
   "metadata": {},
   "outputs": [
    {
     "data": {
      "text/latex": [
       "Quantum object: dims = [[2, 2, 2], [2, 2, 2]], shape = (8, 8), type = oper, isherm = True\\begin{equation*}\\left(\\begin{array}{*{11}c}9.736 & 0.673 & 0.673 & 0.0 & 0.673 & 0.0 & 0.0 & 0.0\\\\0.673 & -3.245 & 0.0 & 0.673 & 0.0 & 0.673 & 0.0 & 0.0\\\\0.673 & 0.0 & -3.245 & 0.673 & 0.0 & 0.0 & 0.673 & 0.0\\\\0.0 & 0.673 & 0.673 & -3.245 & 0.0 & 0.0 & 0.0 & 0.673\\\\0.673 & 0.0 & 0.0 & 0.0 & -3.245 & 0.673 & 0.673 & 0.0\\\\0.0 & 0.673 & 0.0 & 0.0 & 0.673 & -3.245 & 0.0 & 0.673\\\\0.0 & 0.0 & 0.673 & 0.0 & 0.673 & 0.0 & -3.245 & 0.673\\\\0.0 & 0.0 & 0.0 & 0.673 & 0.0 & 0.673 & 0.673 & 9.736\\\\\\end{array}\\right)\\end{equation*}"
      ],
      "text/plain": [
       "Quantum object: dims = [[2, 2, 2], [2, 2, 2]], shape = (8, 8), type = oper, isherm = True\n",
       "Qobj data =\n",
       "[[ 9.736209   0.6731564  0.6731564  0.         0.6731564  0.\n",
       "   0.         0.       ]\n",
       " [ 0.6731564 -3.245403   0.         0.6731564  0.         0.6731564\n",
       "   0.         0.       ]\n",
       " [ 0.6731564  0.        -3.245403   0.6731564  0.         0.\n",
       "   0.6731564  0.       ]\n",
       " [ 0.         0.6731564  0.6731564 -3.245403   0.         0.\n",
       "   0.         0.6731564]\n",
       " [ 0.6731564  0.         0.         0.        -3.245403   0.6731564\n",
       "   0.6731564  0.       ]\n",
       " [ 0.         0.6731564  0.         0.         0.6731564 -3.245403\n",
       "   0.         0.6731564]\n",
       " [ 0.         0.         0.6731564  0.         0.6731564  0.\n",
       "  -3.245403   0.6731564]\n",
       " [ 0.         0.         0.         0.6731564  0.         0.6731564\n",
       "   0.6731564  9.736209 ]]"
      ]
     },
     "execution_count": 51,
     "metadata": {},
     "output_type": "execute_result"
    }
   ],
   "source": [
    "systot_H(T/2)"
   ]
  },
  {
   "cell_type": "markdown",
   "metadata": {},
   "source": [
    "# Actually Running the Numerical Anneals\n",
    "## The Entire System\n",
    "### First Up: Exact Diagonlization for Comparison"
   ]
  },
  {
   "cell_type": "code",
   "execution_count": 53,
   "metadata": {},
   "outputs": [
    {
     "data": {
      "image/png": "[encoded data removed]",
      "text/plain": [
       "<Figure size 432x288 with 1 Axes>"
      ]
     },
     "metadata": {},
     "output_type": "display_data"
    }
   ],
   "source": [
    "gs = systot_H(T).groundstate()[1]\n",
    "gs_amps = np.array([abs(gs[i])**2 for i in range(8)])\n",
    "plt.bar([0, 1, 2, 3, 4, 5, 6, 7], gs_amps.flatten())\n",
    "plt.show()"
   ]
  },
  {
   "cell_type": "markdown",
   "metadata": {},
   "source": [
    "### Now Let's do a Numerical Anneal on the Entire System"
   ]
  },
  {
   "cell_type": "code",
   "execution_count": 24,
   "metadata": {},
   "outputs": [
    {
     "data": {
      "image/png": "[encoded data removed]",
      "text/plain": [
       "<Figure size 432x288 with 1 Axes>"
      ]
     },
     "metadata": {},
     "output_type": "display_data"
    }
   ],
   "source": [
    "results = qt.sesolve(systot_listH, systot_H(0).groundstate()[1], systot_times)\n",
    "amps = np.array([abs(results.states[-1][i])**2 for i in range(8)])\n",
    "plt.bar([0, 1, 2, 3, 4, 5, 6, 7], amps.flatten())\n",
    "plt.show()"
   ]
  },
  {
   "cell_type": "markdown",
   "metadata": {},
   "source": [
    "## Forward Anneal System A and Reverse Anneal System B\n",
    "### First Up, Exact Diagalization"
   ]
  },
  {
   "cell_type": "code",
   "execution_count": 54,
   "metadata": {},
   "outputs": [
    {
     "data": {
      "image/png": "[encoded data removed]",
      "text/plain": [
       "<Figure size 432x288 with 1 Axes>"
      ]
     },
     "metadata": {},
     "output_type": "display_data"
    }
   ],
   "source": [
    "gs = sysAB_H(T).groundstate()[1]\n",
    "gs_amps = np.array([abs(gs[i])**2 for i in range(8)])\n",
    "plt.bar([0, 1, 2, 3, 4, 5, 6, 7], gs_amps.flatten())\n",
    "plt.show()"
   ]
  },
  {
   "cell_type": "markdown",
   "metadata": {},
   "source": [
    "### Now for the Numerical Anneal of A and B in tandem\n",
    "Here, the initial state is slightly more complicated than the ground-state of H(0) (the equal superposition state). Instead, sysA starts out in the initial superposition state whereas sysB starts out in some user-defined classical state. For this example, we'll just choose up-up for this. "
   ]
  },
  {
   "cell_type": "code",
   "execution_count": 83,
   "metadata": {},
   "outputs": [
    {
     "data": {
      "image/png": "[encoded data removed]",
      "text/plain": [
       "<Figure size 432x288 with 1 Axes>"
      ]
     },
     "metadata": {},
     "output_type": "display_data"
    }
   ],
   "source": [
    "# q0 is the only qubit in system A in this example\n",
    "q0init_state = (qts.ket([0]) + qts.ket([1])).unit()\n",
    "# q1 and q2 are part of system B in this example\n",
    "q1init_state = qts.ket([0])\n",
    "q2init_state = qts.ket([0])\n",
    "\n",
    "# to combine the system state together, we need only take the tensor product\n",
    "init_state = qt.tensor(q0init_state, q1init_state, q2init_state)\n",
    "\n",
    "# the actual numerical simulation\n",
    "results = qt.sesolve(sysAB_listH, init_state, systot_times)\n",
    "amps = np.array([abs(results.states[-1][i])**2 for i in range(8)])\n",
    "plt.bar([0, 1, 2, 3, 4, 5, 6, 7], amps.flatten())\n",
    "plt.show()"
   ]
  },
  {
   "cell_type": "code",
   "execution_count": null,
   "metadata": {},
   "outputs": [],
   "source": []
  }
 ],
 "metadata": {
  "kernelspec": {
   "display_name": "Python 3",
   "language": "python",
   "name": "python3"
  },
  "language_info": {
   "codemirror_mode": {
    "name": "ipython",
    "version": 3
   },
   "file_extension": ".py",
   "mimetype": "text/x-python",
   "name": "python",
   "nbconvert_exporter": "python",
   "pygments_lexer": "ipython3",
   "version": "3.6.6"
  }
 },
 "nbformat": 4,
 "nbformat_minor": 2
}
