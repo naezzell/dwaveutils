{
 "cells": [
  {
   "cell_type": "code",
   "execution_count": 1,
   "metadata": {},
   "outputs": [],
   "source": [
    "# The Stanard Hodgepodge of Imports for Python\n",
    "import qutip as qt\n",
    "import qutip.states as qts\n",
    "import qutip.operators as qto\n",
    "import numpy as np\n",
    "import matplotlib.pyplot as plt\n",
    "%matplotlib inline\n",
    "import pandas as pd\n",
    "import sys\n",
    "import seaborn as sns\n",
    "from functools import reduce\n",
    "from functools import partial\n",
    "from scipy.stats import entropy as entropy\n",
    "import networkx as nx\n",
    "import numpy as np\n",
    "\n",
    "sys.path.append(\"../dwaveutils/dwavetools\")\n",
    "sys.path.append(\"../dwaveutils/probrep\")\n",
    "from dictrep import DictRep\n",
    "from dwavetools import (nqubit_1pauli, nqubit_2pauli, loadAandB, dict_to_qutip,\n",
    "                       make_numeric_schedule, get_numeric_H, time_interpolation,\n",
    "                       gs_calculator, random_partition, KL_div, ml_measurement)"
   ]
  },
  {
   "cell_type": "code",
   "execution_count": 2,
   "metadata": {},
   "outputs": [
    {
     "data": {
      "text/plain": [
       "array([0.  , 0.  , 0.  , 0.  , 0.  , 0.  , 0.25, 0.  , 0.  , 0.  , 0.25,\n",
       "       0.  , 0.25, 0.  , 0.25, 0.  ])"
      ]
     },
     "execution_count": 2,
     "metadata": {},
     "output_type": "execute_result"
    },
    {
     "data": {
      "image/png": "[encoded data removed]",
      "text/plain": [
       "<Figure size 432x288 with 1 Axes>"
      ]
     },
     "metadata": {},
     "output_type": "display_data"
    }
   ],
   "source": [
    "# First, let's create a sample 4 qubit Hamiltonian no h bias\n",
    "dictH = {(0, 0): 1, (1, 1): 1, (2, 2): 1, (3, 3): -1, (0, 1): 1, (1, 2): 1, (2, 3): 1, (0, 3): 1, (1, 3): 1, (0, 2): 1}\n",
    "H = DictRep(H = dictH, qpu = 'numerical', vartype = 'ising', encoding = 'logical')\n",
    "graph = H.visualize_graph()\n",
    "H.diag_H()"
   ]
  },
  {
   "cell_type": "code",
   "execution_count": 3,
   "metadata": {},
   "outputs": [],
   "source": [
    "# set-up the problem\n",
    "T = 1\n",
    "s = 0.5\n",
    "ftr = 0.5\n",
    "num_runs = 50\n",
    "\n",
    "# run many instances of the problem with a random partition each time\n",
    "for i in range(num_runs):\n",
    "    results = H.frem_comparison(T, s, ftr)"
   ]
  },
  {
   "cell_type": "code",
   "execution_count": 4,
   "metadata": {},
   "outputs": [
    {
     "name": "stdout",
     "output_type": "stream",
     "text": [
      "Average KL divergence of forward annealing over 50 runs is 0.3712979777868924\n",
      "Average KL divergence of reverse annealing over 50 runs is 1.6664206159413888\n",
      "Average KL divergence of frem annealing over 50 runs is 0.8283620619684997\n",
      "Minimum KL divergence of forward annealing over 50 runs is 0.3712979777868924\n",
      "Minimum KL divergence of reverse annealing over 50 runs is 1.6664206159413886\n",
      "Minimum KL divergence of frem annealing over 50 runs is 0.21420614828894136\n"
     ]
    }
   ],
   "source": [
    "# analyze the data\n",
    "data = H.data\n",
    "\n",
    "# get averages of KL divergence\n",
    "fKL_avg = data.loc[data['method'] == 'forward']['KL_div'].mean()\n",
    "print(\"Average KL divergence of forward annealing over {} runs is {}\".format(num_runs, fKL_avg))\n",
    "rKL_avg = data.loc[data['method'] == 'reverse']['KL_div'].mean()\n",
    "print(\"Average KL divergence of reverse annealing over {} runs is {}\".format(num_runs, rKL_avg))\n",
    "fremKL_avg = data.loc[data['method'] == 'frem']['KL_div'].mean()\n",
    "print(\"Average KL divergence of frem annealing over {} runs is {}\".format(num_runs, fremKL_avg))\n",
    "\n",
    "# get minimum values\n",
    "fKL_min = data.loc[data['method'] == 'forward']['KL_div'].min()\n",
    "print(\"Minimum KL divergence of forward annealing over {} runs is {}\".format(num_runs, fKL_min))\n",
    "rKL_min = data.loc[data['method'] == 'reverse']['KL_div'].min()\n",
    "print(\"Minimum KL divergence of reverse annealing over {} runs is {}\".format(num_runs, rKL_min))\n",
    "fremKL_min = data.loc[data['method'] == 'frem']['KL_div'].min()\n",
    "print(\"Minimum KL divergence of frem annealing over {} runs is {}\".format(num_runs, fremKL_min))"
   ]
  },
  {
   "cell_type": "code",
   "execution_count": null,
   "metadata": {},
   "outputs": [],
   "source": []
  }
 ],
 "metadata": {
  "kernelspec": {
   "display_name": "Python 3",
   "language": "python",
   "name": "python3"
  },
  "language_info": {
   "codemirror_mode": {
    "name": "ipython",
    "version": 3
   },
   "file_extension": ".py",
   "mimetype": "text/x-python",
   "name": "python",
   "nbconvert_exporter": "python",
   "pygments_lexer": "ipython3",
   "version": "3.6.6"
  }
 },
 "nbformat": 4,
 "nbformat_minor": 2
}
