{
 "cells": [
  {
   "cell_type": "code",
   "execution_count": 3,
   "metadata": {},
   "outputs": [],
   "source": [
    "# The Stanard Hodgepodge of Imports for Python\n",
    "import qutip as qt\n",
    "import qutip.states as qts\n",
    "import qutip.operators as qto\n",
    "import numpy as np\n",
    "import matplotlib.pyplot as plt\n",
    "%matplotlib inline\n",
    "import pandas as pd\n",
    "import sys\n",
    "import seaborn as sns\n",
    "from functools import reduce\n",
    "from functools import partial\n",
    "from scipy.stats import entropy as entropy\n",
    "import networkx as nx\n",
    "import numpy as np\n",
    "\n",
    "sys.path.append(\"../dwaveutils/dwavetools\")\n",
    "sys.path.append(\"../dwaveutils/probrep\")\n",
    "from dictrep import DictRep\n",
    "from dwavetools import (nqubit_1pauli, nqubit_2pauli, loadAandB, dict_to_qutip,\n",
    "                       make_numeric_schedule, get_numeric_H, time_interpolation,\n",
    "                       gs_calculator, random_partition, KL_div)"
   ]
  },
  {
   "cell_type": "code",
   "execution_count": 2,
   "metadata": {},
   "outputs": [
    {
     "data": {
      "image/png": "[encoded data removed]",
      "text/plain": [
       "<Figure size 432x288 with 1 Axes>"
      ]
     },
     "metadata": {},
     "output_type": "display_data"
    }
   ],
   "source": [
    "# First, let's create a sample 4 qubit Hamiltonian no h bias\n",
    "dictH = {(0, 0): 1, (1, 1): 1, (2, 2): 1, (3, 3): 0, (0, 1): 1, (1, 2): -1, (2, 3): 1, (0, 3): -1, (1, 3): 1, (0, 2): -1}\n",
    "H = DictRep(H = dictH, qpu = 'numerical', vartype = 'ising', encoding = 'logical')\n",
    "graph = H.visualize_graph()"
   ]
  },
  {
   "cell_type": "code",
   "execution_count": 3,
   "metadata": {},
   "outputs": [],
   "source": [
    "# set-up the problem\n",
    "T = 10\n",
    "s = 0.5\n",
    "forward_schedule = make_numeric_schedule(.1, **{'direction': 'forward', 'ta': T})\n",
    "reverse_schedule = make_numeric_schedule(.1, **{'direction': 'reverse', 'ta': T/2,\\\n",
    "                                          'sa': s, 'tq': T/2})\n",
    "schedules = [forward_schedule, reverse_schedule]\n",
    "partition = random_partition(H)\n",
    "Rstate = H.nqubits*'1'\n",
    "FREMstate = len(partition['Rqubits'])*'1'"
   ]
  },
  {
   "cell_type": "code",
   "execution_count": 4,
   "metadata": {},
   "outputs": [],
   "source": [
    "# obtain direct diag, forward, reverse, and frem anneal\n",
    "diag = H.diag_H()\n",
    "forward = H.nf_anneal(forward_schedule)\n",
    "reverse = H.nr_anneal(reverse_schedule, Rstate)\n",
    "frem = H.frem_anneal(schedules, partition, FREMstate)"
   ]
  },
  {
   "cell_type": "code",
   "execution_count": 5,
   "metadata": {},
   "outputs": [],
   "source": [
    "others = {'forward': forward, 'reverse': reverse, 'frem': frem}"
   ]
  },
  {
   "cell_type": "code",
   "execution_count": 6,
   "metadata": {},
   "outputs": [
    {
     "data": {
      "text/plain": [
       "{'forward': array([0.0052408]),\n",
       " 'reverse': array([6.4618714]),\n",
       " 'frem': array([0.39040201])}"
      ]
     },
     "execution_count": 6,
     "metadata": {},
     "output_type": "execute_result"
    }
   ],
   "source": [
    "KL_div(diag, others)"
   ]
  },
  {
   "cell_type": "code",
   "execution_count": 8,
   "metadata": {},
   "outputs": [
    {
     "data": {
      "text/plain": [
       "<matplotlib.legend.Legend at 0x7fee7a78f668>"
      ]
     },
     "execution_count": 8,
     "metadata": {},
     "output_type": "execute_result"
    },
    {
     "data": {
      "image/png": "[encoded data removed]",
      "text/plain": [
       "<Figure size 432x288 with 1 Axes>"
      ]
     },
     "metadata": {},
     "output_type": "display_data"
    }
   ],
   "source": [
    "# plot the results\n",
    "states = np.linspace(0, H.Hsize-1, H.Hsize)\n",
    "ax = plt.subplot(111)\n",
    "ax.bar(states-.4, diag.flatten(),width=0.2,color='b',align='center',label='diag')\n",
    "ax.bar(states-.2, forward.flatten(),width=0.2,color='g',align='center', label='forward')\n",
    "ax.bar(states+.2, reverse.flatten(),width=0.2,color='r',align='center', label='reverse')\n",
    "ax.bar(states+.4, frem.flatten(),width=0.2,color='y',align='center',label='frem')\n",
    "plt.legend()"
   ]
  },
  {
   "cell_type": "code",
   "execution_count": 7,
   "metadata": {},
   "outputs": [
    {
     "data": {
      "text/plain": [
       "{'HR': {(0, 0): 1,\n",
       "  (0, 1): 1,\n",
       "  (0, 2): -1,\n",
       "  (0, 3): -1,\n",
       "  (1, 1): 1,\n",
       "  (1, 3): 1,\n",
       "  (2, 2): 1,\n",
       "  (1, 2): -1,\n",
       "  (3, 3): 0},\n",
       " 'Rqubits': [0, 1, 2],\n",
       " 'HF': {(0, 0): 0, (1, 1): 0, (2, 2): 0, (3, 3): 0, (2, 3): 1}}"
      ]
     },
     "execution_count": 7,
     "metadata": {},
     "output_type": "execute_result"
    }
   ],
   "source": [
    "partition"
   ]
  },
  {
   "cell_type": "code",
   "execution_count": 21,
   "metadata": {},
   "outputs": [],
   "source": [
    "np.random.seed(3)\n",
    "a = np.random.rand(4, 4)\n",
    "m = np.tril(a) + np.tril(a, -1).T\n",
    "blah = np.matrix(m)"
   ]
  },
  {
   "cell_type": "code",
   "execution_count": 16,
   "metadata": {},
   "outputs": [],
   "source": [
    "np.savetxt('trial.txt', blah, fmt='%.8f')"
   ]
  },
  {
   "cell_type": "code",
   "execution_count": 22,
   "metadata": {},
   "outputs": [
    {
     "data": {
      "text/plain": [
       "matrix([[0.5507979 , 0.89294695, 0.0514672 , 0.64914405],\n",
       "        [0.89294695, 0.89629309, 0.44080984, 0.27848728],\n",
       "        [0.0514672 , 0.44080984, 0.02987621, 0.6762549 ],\n",
       "        [0.64914405, 0.27848728, 0.6762549 , 0.59086282]])"
      ]
     },
     "execution_count": 22,
     "metadata": {},
     "output_type": "execute_result"
    }
   ],
   "source": [
    "blah"
   ]
  },
  {
   "cell_type": "code",
   "execution_count": null,
   "metadata": {},
   "outputs": [],
   "source": []
  }
 ],
 "metadata": {
  "kernelspec": {
   "display_name": "Python 3",
   "language": "python",
   "name": "python3"
  },
  "language_info": {
   "codemirror_mode": {
    "name": "ipython",
    "version": 3
   },
   "file_extension": ".py",
   "mimetype": "text/x-python",
   "name": "python",
   "nbconvert_exporter": "python",
   "pygments_lexer": "ipython3",
   "version": "3.6.6"
  }
 },
 "nbformat": 4,
 "nbformat_minor": 2
}
